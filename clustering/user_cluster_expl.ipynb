{
 "cells": [
  {
   "cell_type": "code",
   "execution_count": 1,
   "metadata": {},
   "outputs": [],
   "source": [
    "import pandas as pd\n",
    "import matplotlib.pyplot as plt\n",
    "import ast\n",
    "from collections import Counter\n",
    "import pycountry\n",
    "from datetime import datetime\n",
    "import seaborn as sns\n",
    "import numpy as np\n",
    "import matplotlib.pyplot as plt\n",
    "from sklearn.preprocessing import MinMaxScaler\n",
    "import sqlalchemy"
   ]
  },
  {
   "cell_type": "code",
   "execution_count": 2,
   "metadata": {},
   "outputs": [
    {
     "data": {
      "text/plain": [
       "147156"
      ]
     },
     "execution_count": 2,
     "metadata": {},
     "output_type": "execute_result"
    }
   ],
   "source": [
    "track_genres_df = pd.read_csv(\"../feature_engineering/data/track_genres.csv\", sep=\";\", header=None)\n",
    "track_genres_df.columns = [\"track_id\", \"genres\"]\n",
    "track_genres_df = track_genres_df[track_genres_df[\"genres\"] != \"[]\"]\n",
    "rel_tracks = set(track_genres_df[\"track_id\"])\n",
    "track_genres_df[\"track_id\"].nunique()"
   ]
  },
  {
   "cell_type": "code",
   "execution_count": 3,
   "metadata": {},
   "outputs": [
    {
     "data": {
      "text/html": [
       "<div>\n",
       "<style scoped>\n",
       "    .dataframe tbody tr th:only-of-type {\n",
       "        vertical-align: middle;\n",
       "    }\n",
       "\n",
       "    .dataframe tbody tr th {\n",
       "        vertical-align: top;\n",
       "    }\n",
       "\n",
       "    .dataframe thead th {\n",
       "        text-align: right;\n",
       "    }\n",
       "</style>\n",
       "<table border=\"1\" class=\"dataframe\">\n",
       "  <thead>\n",
       "    <tr style=\"text-align: right;\">\n",
       "      <th></th>\n",
       "      <th>cluster</th>\n",
       "    </tr>\n",
       "    <tr>\n",
       "      <th>user_id</th>\n",
       "      <th></th>\n",
       "    </tr>\n",
       "  </thead>\n",
       "  <tbody>\n",
       "    <tr>\n",
       "      <td>10883488</td>\n",
       "      <td>1</td>\n",
       "    </tr>\n",
       "    <tr>\n",
       "      <td>35212267</td>\n",
       "      <td>3</td>\n",
       "    </tr>\n",
       "    <tr>\n",
       "      <td>38189090</td>\n",
       "      <td>3</td>\n",
       "    </tr>\n",
       "    <tr>\n",
       "      <td>22113634</td>\n",
       "      <td>3</td>\n",
       "    </tr>\n",
       "    <tr>\n",
       "      <td>3704198</td>\n",
       "      <td>3</td>\n",
       "    </tr>\n",
       "  </tbody>\n",
       "</table>\n",
       "</div>"
      ],
      "text/plain": [
       "          cluster\n",
       "user_id          \n",
       "10883488        1\n",
       "35212267        3\n",
       "38189090        3\n",
       "22113634        3\n",
       "3704198         3"
      ]
     },
     "execution_count": 3,
     "metadata": {},
     "output_type": "execute_result"
    }
   ],
   "source": [
    "classification_df = pd.read_csv(\"classification.csv\", sep=\";\", index_col=\"user_id\")\n",
    "classification_df.head()"
   ]
  },
  {
   "cell_type": "code",
   "execution_count": 4,
   "metadata": {},
   "outputs": [
    {
     "name": "stderr",
     "output_type": "stream",
     "text": [
      "C:\\Users\\pmuellner\\AppData\\Local\\Continuum\\anaconda3\\lib\\site-packages\\numpy\\lib\\arraysetops.py:569: FutureWarning: elementwise comparison failed; returning scalar instead, but in the future will perform elementwise comparison\n",
      "  mask |= (ar1 == a)\n"
     ]
    },
    {
     "data": {
      "text/html": [
       "<div>\n",
       "<style scoped>\n",
       "    .dataframe tbody tr th:only-of-type {\n",
       "        vertical-align: middle;\n",
       "    }\n",
       "\n",
       "    .dataframe tbody tr th {\n",
       "        vertical-align: top;\n",
       "    }\n",
       "\n",
       "    .dataframe thead th {\n",
       "        text-align: right;\n",
       "    }\n",
       "</style>\n",
       "<table border=\"1\" class=\"dataframe\">\n",
       "  <thead>\n",
       "    <tr style=\"text-align: right;\">\n",
       "      <th></th>\n",
       "      <th>track_id</th>\n",
       "      <th>artist_id</th>\n",
       "    </tr>\n",
       "    <tr>\n",
       "      <th>user_id</th>\n",
       "      <th></th>\n",
       "      <th></th>\n",
       "    </tr>\n",
       "  </thead>\n",
       "  <tbody>\n",
       "    <tr>\n",
       "      <td>31435741</td>\n",
       "      <td>53</td>\n",
       "      <td>21</td>\n",
       "    </tr>\n",
       "    <tr>\n",
       "      <td>31435741</td>\n",
       "      <td>86</td>\n",
       "      <td>32</td>\n",
       "    </tr>\n",
       "    <tr>\n",
       "      <td>31435741</td>\n",
       "      <td>127</td>\n",
       "      <td>44</td>\n",
       "    </tr>\n",
       "    <tr>\n",
       "      <td>31435741</td>\n",
       "      <td>182</td>\n",
       "      <td>57</td>\n",
       "    </tr>\n",
       "    <tr>\n",
       "      <td>31435741</td>\n",
       "      <td>219</td>\n",
       "      <td>65</td>\n",
       "    </tr>\n",
       "  </tbody>\n",
       "</table>\n",
       "</div>"
      ],
      "text/plain": [
       "          track_id  artist_id\n",
       "user_id                      \n",
       "31435741        53         21\n",
       "31435741        86         32\n",
       "31435741       127         44\n",
       "31435741       182         57\n",
       "31435741       219         65"
      ]
     },
     "execution_count": 4,
     "metadata": {},
     "output_type": "execute_result"
    }
   ],
   "source": [
    "user_track_df = pd.read_csv(\"../feature_engineering/data/user_track.csv\", sep=\";\", index_col=\"user_id\")\n",
    "user_track_df.head()"
   ]
  },
  {
   "cell_type": "code",
   "execution_count": 5,
   "metadata": {},
   "outputs": [
    {
     "data": {
      "text/plain": [
       "1284855"
      ]
     },
     "execution_count": 5,
     "metadata": {},
     "output_type": "execute_result"
    }
   ],
   "source": [
    "user_track_df = user_track_df[user_track_df[\"track_id\"].isin(rel_tracks)]\n",
    "len(user_track_df)"
   ]
  },
  {
   "cell_type": "code",
   "execution_count": 6,
   "metadata": {},
   "outputs": [
    {
     "data": {
      "text/html": [
       "<div>\n",
       "<style scoped>\n",
       "    .dataframe tbody tr th:only-of-type {\n",
       "        vertical-align: middle;\n",
       "    }\n",
       "\n",
       "    .dataframe tbody tr th {\n",
       "        vertical-align: top;\n",
       "    }\n",
       "\n",
       "    .dataframe thead th {\n",
       "        text-align: right;\n",
       "    }\n",
       "</style>\n",
       "<table border=\"1\" class=\"dataframe\">\n",
       "  <thead>\n",
       "    <tr style=\"text-align: right;\">\n",
       "      <th></th>\n",
       "      <th>track_id</th>\n",
       "      <th>artist_id</th>\n",
       "      <th>cluster</th>\n",
       "    </tr>\n",
       "    <tr>\n",
       "      <th>user_id</th>\n",
       "      <th></th>\n",
       "      <th></th>\n",
       "      <th></th>\n",
       "    </tr>\n",
       "  </thead>\n",
       "  <tbody>\n",
       "    <tr>\n",
       "      <td>1049656</td>\n",
       "      <td>85503</td>\n",
       "      <td>14289</td>\n",
       "      <td>3</td>\n",
       "    </tr>\n",
       "    <tr>\n",
       "      <td>1049656</td>\n",
       "      <td>164817</td>\n",
       "      <td>2865</td>\n",
       "      <td>3</td>\n",
       "    </tr>\n",
       "    <tr>\n",
       "      <td>1049656</td>\n",
       "      <td>10728</td>\n",
       "      <td>1696</td>\n",
       "      <td>3</td>\n",
       "    </tr>\n",
       "    <tr>\n",
       "      <td>1049656</td>\n",
       "      <td>186967</td>\n",
       "      <td>1696</td>\n",
       "      <td>3</td>\n",
       "    </tr>\n",
       "    <tr>\n",
       "      <td>1049656</td>\n",
       "      <td>10756</td>\n",
       "      <td>1696</td>\n",
       "      <td>3</td>\n",
       "    </tr>\n",
       "  </tbody>\n",
       "</table>\n",
       "</div>"
      ],
      "text/plain": [
       "         track_id  artist_id  cluster\n",
       "user_id                              \n",
       "1049656     85503      14289        3\n",
       "1049656    164817       2865        3\n",
       "1049656     10728       1696        3\n",
       "1049656    186967       1696        3\n",
       "1049656     10756       1696        3"
      ]
     },
     "execution_count": 6,
     "metadata": {},
     "output_type": "execute_result"
    }
   ],
   "source": [
    "user_class_track_df = user_track_df.merge(classification_df, left_index=True, right_index=True)\n",
    "user_class_track_df.head()"
   ]
  },
  {
   "cell_type": "code",
   "execution_count": 7,
   "metadata": {},
   "outputs": [
    {
     "data": {
      "text/plain": [
       "147156"
      ]
     },
     "execution_count": 7,
     "metadata": {},
     "output_type": "execute_result"
    }
   ],
   "source": [
    "user_class_track_df[\"track_id\"].nunique()"
   ]
  },
  {
   "cell_type": "code",
   "execution_count": null,
   "metadata": {},
   "outputs": [],
   "source": [
    "# tracks per user"
   ]
  },
  {
   "cell_type": "code",
   "execution_count": null,
   "metadata": {},
   "outputs": [],
   "source": [
    "user_class_track_df.groupby(by=[\"cluster\", \"user_id\"])[\"track_id\"].nunique().groupby(by=\"cluster\").mean()"
   ]
  },
  {
   "cell_type": "code",
   "execution_count": null,
   "metadata": {},
   "outputs": [],
   "source": [
    "user_class_track_df.groupby(by=[\"cluster\", \"user_id\"])[\"track_id\"].nunique().groupby(by=\"cluster\").std()"
   ]
  },
  {
   "cell_type": "code",
   "execution_count": null,
   "metadata": {},
   "outputs": [],
   "source": [
    "%matplotlib qt\n",
    "user_class_track_df.groupby(by=[\"cluster\", \"user_id\"])[\"track_id\"].nunique().to_frame().boxplot(by=\"cluster\")"
   ]
  },
  {
   "cell_type": "code",
   "execution_count": null,
   "metadata": {},
   "outputs": [],
   "source": []
  },
  {
   "cell_type": "code",
   "execution_count": null,
   "metadata": {},
   "outputs": [],
   "source": [
    "# artists per user\n",
    "user_class_track_df.groupby(by=[\"cluster\", \"user_id\"])[\"artist_id\"].nunique().groupby(by=\"cluster\").mean()"
   ]
  },
  {
   "cell_type": "code",
   "execution_count": null,
   "metadata": {},
   "outputs": [],
   "source": [
    "user_class_track_df.groupby(by=[\"cluster\", \"user_id\"])[\"artist_id\"].nunique().groupby(by=\"cluster\").std()"
   ]
  },
  {
   "cell_type": "code",
   "execution_count": null,
   "metadata": {},
   "outputs": [],
   "source": [
    "# artists per usergroup\n",
    "#user_class_track_df.groupby(by=\"cluster\")[\"artist_id\"].apply(set).apply(len)\n",
    "user_class_track_df.groupby(by=\"cluster\")[\"artist_id\"].nunique()"
   ]
  },
  {
   "cell_type": "code",
   "execution_count": null,
   "metadata": {},
   "outputs": [],
   "source": []
  },
  {
   "cell_type": "code",
   "execution_count": null,
   "metadata": {},
   "outputs": [],
   "source": [
    "track_genres_df = pd.read_csv(\"../feature_engineering/data/track_genres.csv\", sep=\";\", header=None)\n",
    "track_genres_df.columns = [\"track_id\", \"genres\"]\n",
    "track_genres_df.set_index(\"track_id\", inplace=True)\n",
    "track_genres_df.head()"
   ]
  },
  {
   "cell_type": "code",
   "execution_count": null,
   "metadata": {},
   "outputs": [],
   "source": []
  },
  {
   "cell_type": "code",
   "execution_count": null,
   "metadata": {},
   "outputs": [],
   "source": [
    "# tracks per usergroup\n",
    "#user_class_track_df.groupby(by=\"cluster\")[\"artist_id\"].apply(set).apply(len)\n",
    "user_class_track_df.groupby(by=\"cluster\")[\"track_id\"].nunique()"
   ]
  },
  {
   "cell_type": "code",
   "execution_count": null,
   "metadata": {},
   "outputs": [],
   "source": []
  },
  {
   "cell_type": "code",
   "execution_count": null,
   "metadata": {},
   "outputs": [],
   "source": [
    "# listening events per user\n",
    "events_df = pd.read_csv(\"../feature_engineering/data/lowms_les.csv\", sep=\";\")\n",
    "events_df.head()"
   ]
  },
  {
   "cell_type": "code",
   "execution_count": null,
   "metadata": {},
   "outputs": [],
   "source": [
    "events_df[\"track_id\"].nunique()"
   ]
  },
  {
   "cell_type": "code",
   "execution_count": null,
   "metadata": {},
   "outputs": [],
   "source": [
    "events_df[\"user_id\"].nunique()"
   ]
  },
  {
   "cell_type": "code",
   "execution_count": null,
   "metadata": {},
   "outputs": [],
   "source": []
  },
  {
   "cell_type": "code",
   "execution_count": null,
   "metadata": {},
   "outputs": [],
   "source": [
    "df = events_df.merge(classification_df, left_on=\"user_id\", right_index=True)\n",
    "df.groupby(by=[\"cluster\", \"user_id\"]).size().groupby(by=\"cluster\").mean()"
   ]
  },
  {
   "cell_type": "code",
   "execution_count": null,
   "metadata": {},
   "outputs": [],
   "source": [
    "df.groupby(by=[\"cluster\", \"user_id\"]).size().groupby(by=\"cluster\").std()"
   ]
  },
  {
   "cell_type": "code",
   "execution_count": null,
   "metadata": {},
   "outputs": [],
   "source": [
    "df.groupby(\"cluster\").size()"
   ]
  },
  {
   "cell_type": "code",
   "execution_count": null,
   "metadata": {},
   "outputs": [],
   "source": [
    "# listening events per usergroup"
   ]
  },
  {
   "cell_type": "code",
   "execution_count": 8,
   "metadata": {},
   "outputs": [
    {
     "data": {
      "text/html": [
       "<div>\n",
       "<style scoped>\n",
       "    .dataframe tbody tr th:only-of-type {\n",
       "        vertical-align: middle;\n",
       "    }\n",
       "\n",
       "    .dataframe tbody tr th {\n",
       "        vertical-align: top;\n",
       "    }\n",
       "\n",
       "    .dataframe thead th {\n",
       "        text-align: right;\n",
       "    }\n",
       "</style>\n",
       "<table border=\"1\" class=\"dataframe\">\n",
       "  <thead>\n",
       "    <tr style=\"text-align: right;\">\n",
       "      <th></th>\n",
       "      <th>user_id</th>\n",
       "      <th>track_id</th>\n",
       "      <th>artist_id</th>\n",
       "      <th>timestamp</th>\n",
       "    </tr>\n",
       "  </thead>\n",
       "  <tbody>\n",
       "    <tr>\n",
       "      <td>0</td>\n",
       "      <td>31435741</td>\n",
       "      <td>53</td>\n",
       "      <td>21</td>\n",
       "      <td>1370977938</td>\n",
       "    </tr>\n",
       "    <tr>\n",
       "      <td>1</td>\n",
       "      <td>31435741</td>\n",
       "      <td>53</td>\n",
       "      <td>21</td>\n",
       "      <td>1370977728</td>\n",
       "    </tr>\n",
       "    <tr>\n",
       "      <td>2</td>\n",
       "      <td>31435741</td>\n",
       "      <td>53</td>\n",
       "      <td>21</td>\n",
       "      <td>1370977518</td>\n",
       "    </tr>\n",
       "    <tr>\n",
       "      <td>3</td>\n",
       "      <td>31435741</td>\n",
       "      <td>53</td>\n",
       "      <td>21</td>\n",
       "      <td>1370977308</td>\n",
       "    </tr>\n",
       "    <tr>\n",
       "      <td>4</td>\n",
       "      <td>31435741</td>\n",
       "      <td>53</td>\n",
       "      <td>21</td>\n",
       "      <td>1370977098</td>\n",
       "    </tr>\n",
       "  </tbody>\n",
       "</table>\n",
       "</div>"
      ],
      "text/plain": [
       "    user_id  track_id  artist_id   timestamp\n",
       "0  31435741        53         21  1370977938\n",
       "1  31435741        53         21  1370977728\n",
       "2  31435741        53         21  1370977518\n",
       "3  31435741        53         21  1370977308\n",
       "4  31435741        53         21  1370977098"
      ]
     },
     "execution_count": 8,
     "metadata": {},
     "output_type": "execute_result"
    }
   ],
   "source": [
    "events_df = pd.read_csv(\"../feature_engineering/data/lowms_les.csv\", sep=\";\")\n",
    "events_df.head()"
   ]
  },
  {
   "cell_type": "code",
   "execution_count": null,
   "metadata": {},
   "outputs": [],
   "source": [
    "print(len(events_df))\n",
    "events_df = events_df[events_df[\"track_id\"].isin(rel_tracks)]\n",
    "print(len(events_df))"
   ]
  },
  {
   "cell_type": "code",
   "execution_count": null,
   "metadata": {},
   "outputs": [],
   "source": [
    "classification_df.merge(events_df, left_index=True, right_on=\"user_id\").groupby(by=\"cluster\").size()"
   ]
  },
  {
   "cell_type": "code",
   "execution_count": null,
   "metadata": {},
   "outputs": [],
   "source": [
    "classification_df.groupby(by=\"cluster\").size()"
   ]
  },
  {
   "cell_type": "code",
   "execution_count": null,
   "metadata": {},
   "outputs": [],
   "source": [
    "# les per track\n",
    "df.head()"
   ]
  },
  {
   "cell_type": "code",
   "execution_count": null,
   "metadata": {},
   "outputs": [],
   "source": [
    "df.groupby(by=[\"cluster\", \"track_id\"]).size().groupby(\"cluster\").mean() / classification_df.groupby(by=\"cluster\").size()"
   ]
  },
  {
   "cell_type": "code",
   "execution_count": null,
   "metadata": {},
   "outputs": [],
   "source": [
    "df.groupby(by=[\"cluster\", \"track_id\"]).size().groupby(\"cluster\").std()  / classification_df.groupby(by=\"cluster\").size()"
   ]
  },
  {
   "cell_type": "code",
   "execution_count": null,
   "metadata": {},
   "outputs": [],
   "source": []
  },
  {
   "cell_type": "code",
   "execution_count": null,
   "metadata": {},
   "outputs": [],
   "source": [
    "# genres per user"
   ]
  },
  {
   "cell_type": "code",
   "execution_count": null,
   "metadata": {},
   "outputs": [],
   "source": [
    "genres_per_user_df = user_track_df.merge(track_genres_df, left_on=\"track_id\", right_index=True)#.reset_index().groupby(by=\"user_id\")\n",
    "genres_per_user_df = genres_per_user_df[\"genres\"].apply(lambda row: ast.literal_eval(row)).to_frame()\n",
    "genres_per_user_df.reset_index(inplace=True)\n",
    "genres_per_user_df.head()"
   ]
  },
  {
   "cell_type": "code",
   "execution_count": null,
   "metadata": {
    "scrolled": true
   },
   "outputs": [],
   "source": [
    "df = genres_per_user_df.groupby(by=\"user_id\").sum()[\"genres\"].apply(set).to_frame()\n",
    "df = classification_df.merge(df, left_index=True, right_index=True)\n",
    "df[\"genres\"] = df[\"genres\"].apply(len)\n",
    "df.groupby(by=\"cluster\")[\"genres\"].mean().to_frame()"
   ]
  },
  {
   "cell_type": "code",
   "execution_count": null,
   "metadata": {},
   "outputs": [],
   "source": [
    "df.groupby(by=\"cluster\")[\"genres\"].std().to_frame()"
   ]
  },
  {
   "cell_type": "code",
   "execution_count": null,
   "metadata": {},
   "outputs": [],
   "source": [
    "# mainstreaminess per usergroup"
   ]
  },
  {
   "cell_type": "code",
   "execution_count": null,
   "metadata": {},
   "outputs": [],
   "source": [
    "mainstreaminess_df = pd.read_csv(\"../feature_engineering/data/low_main_users.txt\", usecols=[\"M_global_R_APC\", \"user_id\"], index_col=\"user_id\")\n",
    "mainstreaminess_df.head()"
   ]
  },
  {
   "cell_type": "code",
   "execution_count": null,
   "metadata": {},
   "outputs": [],
   "source": [
    "mainstreaminess_df.merge(classification_df, left_index=True, right_index=True).groupby(by=\"cluster\").mean()"
   ]
  },
  {
   "cell_type": "code",
   "execution_count": null,
   "metadata": {},
   "outputs": [],
   "source": [
    "mainstreaminess_df.merge(classification_df, left_index=True, right_index=True).groupby(by=\"cluster\").std()"
   ]
  },
  {
   "cell_type": "code",
   "execution_count": null,
   "metadata": {},
   "outputs": [],
   "source": []
  },
  {
   "cell_type": "code",
   "execution_count": null,
   "metadata": {},
   "outputs": [],
   "source": [
    "# user demographics"
   ]
  },
  {
   "cell_type": "code",
   "execution_count": 47,
   "metadata": {},
   "outputs": [
    {
     "data": {
      "text/html": [
       "<div>\n",
       "<style scoped>\n",
       "    .dataframe tbody tr th:only-of-type {\n",
       "        vertical-align: middle;\n",
       "    }\n",
       "\n",
       "    .dataframe tbody tr th {\n",
       "        vertical-align: top;\n",
       "    }\n",
       "\n",
       "    .dataframe thead th {\n",
       "        text-align: right;\n",
       "    }\n",
       "</style>\n",
       "<table border=\"1\" class=\"dataframe\">\n",
       "  <thead>\n",
       "    <tr style=\"text-align: right;\">\n",
       "      <th></th>\n",
       "      <th>cnt_listeningevents</th>\n",
       "      <th>cnt_distinct_artists</th>\n",
       "      <th>novelty_artist_avg_year</th>\n",
       "      <th>cnt_distinct_tracks</th>\n",
       "      <th>cnt_listeningevents_per_week</th>\n",
       "      <th>M_global_R_APC</th>\n",
       "      <th>country</th>\n",
       "      <th>age</th>\n",
       "      <th>gender</th>\n",
       "    </tr>\n",
       "    <tr>\n",
       "      <th>user_id</th>\n",
       "      <th></th>\n",
       "      <th></th>\n",
       "      <th></th>\n",
       "      <th></th>\n",
       "      <th></th>\n",
       "      <th></th>\n",
       "      <th></th>\n",
       "      <th></th>\n",
       "      <th></th>\n",
       "    </tr>\n",
       "  </thead>\n",
       "  <tbody>\n",
       "    <tr>\n",
       "      <td>1049656</td>\n",
       "      <td>11698.0</td>\n",
       "      <td>792.0</td>\n",
       "      <td>0.427083154519399</td>\n",
       "      <td>3256.0</td>\n",
       "      <td>164.9830</td>\n",
       "      <td>0.096060</td>\n",
       "      <td>FI</td>\n",
       "      <td>35</td>\n",
       "      <td>m</td>\n",
       "    </tr>\n",
       "    <tr>\n",
       "      <td>1055118</td>\n",
       "      <td>5365.0</td>\n",
       "      <td>440.0</td>\n",
       "      <td>0.524092843135198</td>\n",
       "      <td>1404.0</td>\n",
       "      <td>15.0147</td>\n",
       "      <td>0.088300</td>\n",
       "      <td>US</td>\n",
       "      <td>34</td>\n",
       "      <td>m</td>\n",
       "    </tr>\n",
       "    <tr>\n",
       "      <td>1056935</td>\n",
       "      <td>8365.0</td>\n",
       "      <td>136.0</td>\n",
       "      <td>0.16214576150689805</td>\n",
       "      <td>2713.0</td>\n",
       "      <td>43.1365</td>\n",
       "      <td>0.076351</td>\n",
       "      <td>UK</td>\n",
       "      <td>30</td>\n",
       "      <td>m</td>\n",
       "    </tr>\n",
       "    <tr>\n",
       "      <td>1070023</td>\n",
       "      <td>14118.0</td>\n",
       "      <td>711.0</td>\n",
       "      <td>0.5249859260188209</td>\n",
       "      <td>3089.0</td>\n",
       "      <td>59.9630</td>\n",
       "      <td>0.000605</td>\n",
       "      <td>US</td>\n",
       "      <td>32</td>\n",
       "      <td>m</td>\n",
       "    </tr>\n",
       "    <tr>\n",
       "      <td>1072752</td>\n",
       "      <td>12749.0</td>\n",
       "      <td>484.0</td>\n",
       "      <td>0.5596268346103338</td>\n",
       "      <td>2899.0</td>\n",
       "      <td>39.7548</td>\n",
       "      <td>0.052467</td>\n",
       "      <td>DK</td>\n",
       "      <td>48</td>\n",
       "      <td>m</td>\n",
       "    </tr>\n",
       "  </tbody>\n",
       "</table>\n",
       "</div>"
      ],
      "text/plain": [
       "         cnt_listeningevents  cnt_distinct_artists novelty_artist_avg_year  \\\n",
       "user_id                                                                      \n",
       "1049656              11698.0                 792.0       0.427083154519399   \n",
       "1055118               5365.0                 440.0       0.524092843135198   \n",
       "1056935               8365.0                 136.0     0.16214576150689805   \n",
       "1070023              14118.0                 711.0      0.5249859260188209   \n",
       "1072752              12749.0                 484.0      0.5596268346103338   \n",
       "\n",
       "         cnt_distinct_tracks  cnt_listeningevents_per_week  M_global_R_APC  \\\n",
       "user_id                                                                      \n",
       "1049656               3256.0                      164.9830        0.096060   \n",
       "1055118               1404.0                       15.0147        0.088300   \n",
       "1056935               2713.0                       43.1365        0.076351   \n",
       "1070023               3089.0                       59.9630        0.000605   \n",
       "1072752               2899.0                       39.7548        0.052467   \n",
       "\n",
       "        country  age gender  \n",
       "user_id                      \n",
       "1049656      FI   35      m  \n",
       "1055118      US   34      m  \n",
       "1056935      UK   30      m  \n",
       "1070023      US   32      m  \n",
       "1072752      DK   48      m  "
      ]
     },
     "execution_count": 47,
     "metadata": {},
     "output_type": "execute_result"
    }
   ],
   "source": [
    "user_df = pd.read_csv(\"../feature_engineering/data/low_main_users.txt\", index_col=\"user_id\")\n",
    "user_df.head()"
   ]
  },
  {
   "cell_type": "code",
   "execution_count": 59,
   "metadata": {},
   "outputs": [
    {
     "data": {
      "text/html": [
       "<div>\n",
       "<style scoped>\n",
       "    .dataframe tbody tr th:only-of-type {\n",
       "        vertical-align: middle;\n",
       "    }\n",
       "\n",
       "    .dataframe tbody tr th {\n",
       "        vertical-align: top;\n",
       "    }\n",
       "\n",
       "    .dataframe thead th {\n",
       "        text-align: right;\n",
       "    }\n",
       "</style>\n",
       "<table border=\"1\" class=\"dataframe\">\n",
       "  <thead>\n",
       "    <tr style=\"text-align: right;\">\n",
       "      <th></th>\n",
       "      <th>country</th>\n",
       "      <th>age</th>\n",
       "      <th>gender</th>\n",
       "      <th>cluster</th>\n",
       "    </tr>\n",
       "    <tr>\n",
       "      <th>user_id</th>\n",
       "      <th></th>\n",
       "      <th></th>\n",
       "      <th></th>\n",
       "      <th></th>\n",
       "    </tr>\n",
       "  </thead>\n",
       "  <tbody>\n",
       "    <tr>\n",
       "      <td>1049656</td>\n",
       "      <td>FI</td>\n",
       "      <td>35</td>\n",
       "      <td>m</td>\n",
       "      <td>3</td>\n",
       "    </tr>\n",
       "    <tr>\n",
       "      <td>1055118</td>\n",
       "      <td>US</td>\n",
       "      <td>34</td>\n",
       "      <td>m</td>\n",
       "      <td>2</td>\n",
       "    </tr>\n",
       "    <tr>\n",
       "      <td>1056935</td>\n",
       "      <td>UK</td>\n",
       "      <td>30</td>\n",
       "      <td>m</td>\n",
       "      <td>2</td>\n",
       "    </tr>\n",
       "    <tr>\n",
       "      <td>1070023</td>\n",
       "      <td>US</td>\n",
       "      <td>32</td>\n",
       "      <td>m</td>\n",
       "      <td>4</td>\n",
       "    </tr>\n",
       "    <tr>\n",
       "      <td>1072752</td>\n",
       "      <td>DK</td>\n",
       "      <td>48</td>\n",
       "      <td>m</td>\n",
       "      <td>1</td>\n",
       "    </tr>\n",
       "  </tbody>\n",
       "</table>\n",
       "</div>"
      ],
      "text/plain": [
       "        country  age gender  cluster\n",
       "user_id                             \n",
       "1049656      FI   35      m        3\n",
       "1055118      US   34      m        2\n",
       "1056935      UK   30      m        2\n",
       "1070023      US   32      m        4\n",
       "1072752      DK   48      m        1"
      ]
     },
     "execution_count": 59,
     "metadata": {},
     "output_type": "execute_result"
    }
   ],
   "source": [
    "demographics_df = user_df.merge(classification_df, left_index=True, right_index=True)[[\"country\", \"age\", \"gender\", \"cluster\"]]\n",
    "demographics_df = demographics_df[demographics_df[\"age\"] != -1]\n",
    "demographics_df = demographics_df[demographics_df[\"gender\"] != \"n\"]\n",
    "demographics_df.head()"
   ]
  },
  {
   "cell_type": "code",
   "execution_count": 55,
   "metadata": {},
   "outputs": [
    {
     "data": {
      "text/plain": [
       "<matplotlib.axes._subplots.AxesSubplot at 0x1ecbc730240>"
      ]
     },
     "execution_count": 55,
     "metadata": {},
     "output_type": "execute_result"
    }
   ],
   "source": [
    "demographics_df[[\"cluster\", \"age\"]].boxplot(by=\"cluster\")"
   ]
  },
  {
   "cell_type": "code",
   "execution_count": 49,
   "metadata": {},
   "outputs": [
    {
     "data": {
      "text/plain": [
       "cluster\n",
       "1    27.951020\n",
       "2    23.868307\n",
       "3    31.794118\n",
       "4    24.620833\n",
       "Name: age, dtype: float64"
      ]
     },
     "execution_count": 49,
     "metadata": {},
     "output_type": "execute_result"
    }
   ],
   "source": [
    "demographics_df.groupby(by=\"cluster\")[\"age\"].mean()"
   ]
  },
  {
   "cell_type": "code",
   "execution_count": null,
   "metadata": {},
   "outputs": [],
   "source": [
    "demographics_df.groupby(by=\"cluster\")[\"age\"].std()"
   ]
  },
  {
   "cell_type": "code",
   "execution_count": 60,
   "metadata": {},
   "outputs": [
    {
     "data": {
      "text/plain": [
       "cluster  gender\n",
       "1        m         154\n",
       "         f          91\n",
       "2        m         464\n",
       "         f         227\n",
       "3        m          57\n",
       "         f          11\n",
       "4        m         395\n",
       "         f          85\n",
       "Name: gender, dtype: int64"
      ]
     },
     "execution_count": 60,
     "metadata": {},
     "output_type": "execute_result"
    }
   ],
   "source": [
    "gender_count_df =demographics_df.groupby(by=\"cluster\")[\"gender\"].value_counts()\n",
    "gender_count_df"
   ]
  },
  {
   "cell_type": "code",
   "execution_count": 61,
   "metadata": {},
   "outputs": [
    {
     "data": {
      "text/plain": [
       "cluster\n",
       "1    245\n",
       "2    691\n",
       "3     68\n",
       "4    480\n",
       "Name: gender, dtype: int64"
      ]
     },
     "execution_count": 61,
     "metadata": {},
     "output_type": "execute_result"
    }
   ],
   "source": [
    "n_users_df = demographics_df.groupby(by=\"cluster\")[\"gender\"].count()\n",
    "n_users_df"
   ]
  },
  {
   "cell_type": "code",
   "execution_count": 58,
   "metadata": {},
   "outputs": [
    {
     "data": {
      "text/plain": [
       "cluster  gender\n",
       "1        m         0.587786\n",
       "         f         0.347328\n",
       "         n         0.064885\n",
       "2        m         0.645341\n",
       "         f         0.315716\n",
       "         n         0.038943\n",
       "3        m         0.791667\n",
       "         f         0.152778\n",
       "         n         0.055556\n",
       "4        m         0.762548\n",
       "         f         0.164093\n",
       "         n         0.073359\n",
       "Name: gender, dtype: float64"
      ]
     },
     "execution_count": 58,
     "metadata": {},
     "output_type": "execute_result"
    }
   ],
   "source": [
    "gender_count_df / n_users_df"
   ]
  },
  {
   "cell_type": "code",
   "execution_count": null,
   "metadata": {},
   "outputs": [],
   "source": [
    "demographics_df[[\"country\", \"cluster\"]].groupby(by=\"cluster\")[\"country\"].value_counts().groupby(by=\"cluster\").head(10)"
   ]
  },
  {
   "cell_type": "code",
   "execution_count": null,
   "metadata": {},
   "outputs": [],
   "source": []
  },
  {
   "cell_type": "code",
   "execution_count": null,
   "metadata": {},
   "outputs": [],
   "source": [
    "# time"
   ]
  },
  {
   "cell_type": "code",
   "execution_count": 9,
   "metadata": {},
   "outputs": [
    {
     "data": {
      "text/html": [
       "<div>\n",
       "<style scoped>\n",
       "    .dataframe tbody tr th:only-of-type {\n",
       "        vertical-align: middle;\n",
       "    }\n",
       "\n",
       "    .dataframe tbody tr th {\n",
       "        vertical-align: top;\n",
       "    }\n",
       "\n",
       "    .dataframe thead th {\n",
       "        text-align: right;\n",
       "    }\n",
       "</style>\n",
       "<table border=\"1\" class=\"dataframe\">\n",
       "  <thead>\n",
       "    <tr style=\"text-align: right;\">\n",
       "      <th></th>\n",
       "      <th>user_id</th>\n",
       "      <th>track_id</th>\n",
       "      <th>artist_id</th>\n",
       "      <th>timestamp</th>\n",
       "    </tr>\n",
       "  </thead>\n",
       "  <tbody>\n",
       "    <tr>\n",
       "      <td>0</td>\n",
       "      <td>31435741</td>\n",
       "      <td>53</td>\n",
       "      <td>21</td>\n",
       "      <td>1370977938</td>\n",
       "    </tr>\n",
       "    <tr>\n",
       "      <td>1</td>\n",
       "      <td>31435741</td>\n",
       "      <td>53</td>\n",
       "      <td>21</td>\n",
       "      <td>1370977728</td>\n",
       "    </tr>\n",
       "    <tr>\n",
       "      <td>2</td>\n",
       "      <td>31435741</td>\n",
       "      <td>53</td>\n",
       "      <td>21</td>\n",
       "      <td>1370977518</td>\n",
       "    </tr>\n",
       "    <tr>\n",
       "      <td>3</td>\n",
       "      <td>31435741</td>\n",
       "      <td>53</td>\n",
       "      <td>21</td>\n",
       "      <td>1370977308</td>\n",
       "    </tr>\n",
       "    <tr>\n",
       "      <td>4</td>\n",
       "      <td>31435741</td>\n",
       "      <td>53</td>\n",
       "      <td>21</td>\n",
       "      <td>1370977098</td>\n",
       "    </tr>\n",
       "  </tbody>\n",
       "</table>\n",
       "</div>"
      ],
      "text/plain": [
       "    user_id  track_id  artist_id   timestamp\n",
       "0  31435741        53         21  1370977938\n",
       "1  31435741        53         21  1370977728\n",
       "2  31435741        53         21  1370977518\n",
       "3  31435741        53         21  1370977308\n",
       "4  31435741        53         21  1370977098"
      ]
     },
     "execution_count": 9,
     "metadata": {},
     "output_type": "execute_result"
    }
   ],
   "source": [
    "events_df.head()"
   ]
  },
  {
   "cell_type": "code",
   "execution_count": 10,
   "metadata": {},
   "outputs": [
    {
     "data": {
      "text/html": [
       "<div>\n",
       "<style scoped>\n",
       "    .dataframe tbody tr th:only-of-type {\n",
       "        vertical-align: middle;\n",
       "    }\n",
       "\n",
       "    .dataframe tbody tr th {\n",
       "        vertical-align: top;\n",
       "    }\n",
       "\n",
       "    .dataframe thead th {\n",
       "        text-align: right;\n",
       "    }\n",
       "</style>\n",
       "<table border=\"1\" class=\"dataframe\">\n",
       "  <thead>\n",
       "    <tr style=\"text-align: right;\">\n",
       "      <th></th>\n",
       "      <th>cluster</th>\n",
       "      <th>timestamp</th>\n",
       "    </tr>\n",
       "    <tr>\n",
       "      <th>user_id</th>\n",
       "      <th></th>\n",
       "      <th></th>\n",
       "    </tr>\n",
       "  </thead>\n",
       "  <tbody>\n",
       "    <tr>\n",
       "      <td>10883488</td>\n",
       "      <td>1</td>\n",
       "      <td>1366331391</td>\n",
       "    </tr>\n",
       "    <tr>\n",
       "      <td>10883488</td>\n",
       "      <td>1</td>\n",
       "      <td>1366019650</td>\n",
       "    </tr>\n",
       "    <tr>\n",
       "      <td>10883488</td>\n",
       "      <td>1</td>\n",
       "      <td>1365867092</td>\n",
       "    </tr>\n",
       "    <tr>\n",
       "      <td>10883488</td>\n",
       "      <td>1</td>\n",
       "      <td>1364979529</td>\n",
       "    </tr>\n",
       "    <tr>\n",
       "      <td>10883488</td>\n",
       "      <td>1</td>\n",
       "      <td>1364979528</td>\n",
       "    </tr>\n",
       "  </tbody>\n",
       "</table>\n",
       "</div>"
      ],
      "text/plain": [
       "          cluster   timestamp\n",
       "user_id                      \n",
       "10883488        1  1366331391\n",
       "10883488        1  1366019650\n",
       "10883488        1  1365867092\n",
       "10883488        1  1364979529\n",
       "10883488        1  1364979528"
      ]
     },
     "execution_count": 10,
     "metadata": {},
     "output_type": "execute_result"
    }
   ],
   "source": [
    "timestamps_df = classification_df.merge(events_df, left_index=True, right_on=\"user_id\")[[\"user_id\", \"cluster\", \"timestamp\"]]\n",
    "timestamps_df.set_index(\"user_id\", inplace=True)\n",
    "timestamps_df.head()"
   ]
  },
  {
   "cell_type": "code",
   "execution_count": 11,
   "metadata": {},
   "outputs": [
    {
     "data": {
      "text/html": [
       "<div>\n",
       "<style scoped>\n",
       "    .dataframe tbody tr th:only-of-type {\n",
       "        vertical-align: middle;\n",
       "    }\n",
       "\n",
       "    .dataframe tbody tr th {\n",
       "        vertical-align: top;\n",
       "    }\n",
       "\n",
       "    .dataframe thead th {\n",
       "        text-align: right;\n",
       "    }\n",
       "</style>\n",
       "<table border=\"1\" class=\"dataframe\">\n",
       "  <thead>\n",
       "    <tr style=\"text-align: right;\">\n",
       "      <th></th>\n",
       "      <th>cluster</th>\n",
       "      <th>timestamp</th>\n",
       "    </tr>\n",
       "    <tr>\n",
       "      <th>user_id</th>\n",
       "      <th></th>\n",
       "      <th></th>\n",
       "    </tr>\n",
       "  </thead>\n",
       "  <tbody>\n",
       "    <tr>\n",
       "      <td>10883488</td>\n",
       "      <td>1</td>\n",
       "      <td>2013-04-19 00:29:51</td>\n",
       "    </tr>\n",
       "    <tr>\n",
       "      <td>10883488</td>\n",
       "      <td>1</td>\n",
       "      <td>2013-04-15 09:54:10</td>\n",
       "    </tr>\n",
       "    <tr>\n",
       "      <td>10883488</td>\n",
       "      <td>1</td>\n",
       "      <td>2013-04-13 15:31:32</td>\n",
       "    </tr>\n",
       "    <tr>\n",
       "      <td>10883488</td>\n",
       "      <td>1</td>\n",
       "      <td>2013-04-03 08:58:49</td>\n",
       "    </tr>\n",
       "    <tr>\n",
       "      <td>10883488</td>\n",
       "      <td>1</td>\n",
       "      <td>2013-04-03 08:58:48</td>\n",
       "    </tr>\n",
       "  </tbody>\n",
       "</table>\n",
       "</div>"
      ],
      "text/plain": [
       "          cluster           timestamp\n",
       "user_id                              \n",
       "10883488        1 2013-04-19 00:29:51\n",
       "10883488        1 2013-04-15 09:54:10\n",
       "10883488        1 2013-04-13 15:31:32\n",
       "10883488        1 2013-04-03 08:58:49\n",
       "10883488        1 2013-04-03 08:58:48"
      ]
     },
     "execution_count": 11,
     "metadata": {},
     "output_type": "execute_result"
    }
   ],
   "source": [
    "timestamps_df[\"timestamp\"] = pd.to_datetime(timestamps_df[\"timestamp\"], unit=\"s\")\n",
    "timestamps_df.head()"
   ]
  },
  {
   "cell_type": "code",
   "execution_count": 12,
   "metadata": {},
   "outputs": [
    {
     "data": {
      "text/html": [
       "<div>\n",
       "<style scoped>\n",
       "    .dataframe tbody tr th:only-of-type {\n",
       "        vertical-align: middle;\n",
       "    }\n",
       "\n",
       "    .dataframe tbody tr th {\n",
       "        vertical-align: top;\n",
       "    }\n",
       "\n",
       "    .dataframe thead th {\n",
       "        text-align: right;\n",
       "    }\n",
       "</style>\n",
       "<table border=\"1\" class=\"dataframe\">\n",
       "  <thead>\n",
       "    <tr style=\"text-align: right;\">\n",
       "      <th></th>\n",
       "      <th>cluster</th>\n",
       "      <th>timestamp</th>\n",
       "      <th>day</th>\n",
       "    </tr>\n",
       "    <tr>\n",
       "      <th>user_id</th>\n",
       "      <th></th>\n",
       "      <th></th>\n",
       "      <th></th>\n",
       "    </tr>\n",
       "  </thead>\n",
       "  <tbody>\n",
       "    <tr>\n",
       "      <td>10883488</td>\n",
       "      <td>1</td>\n",
       "      <td>2013-04-19 00:29:51</td>\n",
       "      <td>4</td>\n",
       "    </tr>\n",
       "    <tr>\n",
       "      <td>10883488</td>\n",
       "      <td>1</td>\n",
       "      <td>2013-04-15 09:54:10</td>\n",
       "      <td>0</td>\n",
       "    </tr>\n",
       "    <tr>\n",
       "      <td>10883488</td>\n",
       "      <td>1</td>\n",
       "      <td>2013-04-13 15:31:32</td>\n",
       "      <td>5</td>\n",
       "    </tr>\n",
       "    <tr>\n",
       "      <td>10883488</td>\n",
       "      <td>1</td>\n",
       "      <td>2013-04-03 08:58:49</td>\n",
       "      <td>2</td>\n",
       "    </tr>\n",
       "    <tr>\n",
       "      <td>10883488</td>\n",
       "      <td>1</td>\n",
       "      <td>2013-04-03 08:58:48</td>\n",
       "      <td>2</td>\n",
       "    </tr>\n",
       "  </tbody>\n",
       "</table>\n",
       "</div>"
      ],
      "text/plain": [
       "          cluster           timestamp  day\n",
       "user_id                                   \n",
       "10883488        1 2013-04-19 00:29:51    4\n",
       "10883488        1 2013-04-15 09:54:10    0\n",
       "10883488        1 2013-04-13 15:31:32    5\n",
       "10883488        1 2013-04-03 08:58:49    2\n",
       "10883488        1 2013-04-03 08:58:48    2"
      ]
     },
     "execution_count": 12,
     "metadata": {},
     "output_type": "execute_result"
    }
   ],
   "source": [
    "timestamps_df[\"day\"] = timestamps_df[\"timestamp\"].dt.dayofweek\n",
    "timestamps_df.head()"
   ]
  },
  {
   "cell_type": "code",
   "execution_count": 13,
   "metadata": {},
   "outputs": [],
   "source": [
    "timestamps_df[\"weekend\"] = timestamps_df[\"day\"] >= 5"
   ]
  },
  {
   "cell_type": "code",
   "execution_count": 14,
   "metadata": {},
   "outputs": [
    {
     "data": {
      "text/html": [
       "<div>\n",
       "<style scoped>\n",
       "    .dataframe tbody tr th:only-of-type {\n",
       "        vertical-align: middle;\n",
       "    }\n",
       "\n",
       "    .dataframe tbody tr th {\n",
       "        vertical-align: top;\n",
       "    }\n",
       "\n",
       "    .dataframe thead th {\n",
       "        text-align: right;\n",
       "    }\n",
       "</style>\n",
       "<table border=\"1\" class=\"dataframe\">\n",
       "  <thead>\n",
       "    <tr style=\"text-align: right;\">\n",
       "      <th></th>\n",
       "      <th>cluster</th>\n",
       "      <th>timestamp</th>\n",
       "      <th>day</th>\n",
       "      <th>weekend</th>\n",
       "    </tr>\n",
       "    <tr>\n",
       "      <th>user_id</th>\n",
       "      <th></th>\n",
       "      <th></th>\n",
       "      <th></th>\n",
       "      <th></th>\n",
       "    </tr>\n",
       "  </thead>\n",
       "  <tbody>\n",
       "    <tr>\n",
       "      <td>10883488</td>\n",
       "      <td>1</td>\n",
       "      <td>2013-04-19 00:29:51</td>\n",
       "      <td>4</td>\n",
       "      <td>False</td>\n",
       "    </tr>\n",
       "    <tr>\n",
       "      <td>10883488</td>\n",
       "      <td>1</td>\n",
       "      <td>2013-04-15 09:54:10</td>\n",
       "      <td>0</td>\n",
       "      <td>False</td>\n",
       "    </tr>\n",
       "    <tr>\n",
       "      <td>10883488</td>\n",
       "      <td>1</td>\n",
       "      <td>2013-04-13 15:31:32</td>\n",
       "      <td>5</td>\n",
       "      <td>True</td>\n",
       "    </tr>\n",
       "    <tr>\n",
       "      <td>10883488</td>\n",
       "      <td>1</td>\n",
       "      <td>2013-04-03 08:58:49</td>\n",
       "      <td>2</td>\n",
       "      <td>False</td>\n",
       "    </tr>\n",
       "    <tr>\n",
       "      <td>10883488</td>\n",
       "      <td>1</td>\n",
       "      <td>2013-04-03 08:58:48</td>\n",
       "      <td>2</td>\n",
       "      <td>False</td>\n",
       "    </tr>\n",
       "  </tbody>\n",
       "</table>\n",
       "</div>"
      ],
      "text/plain": [
       "          cluster           timestamp  day  weekend\n",
       "user_id                                            \n",
       "10883488        1 2013-04-19 00:29:51    4    False\n",
       "10883488        1 2013-04-15 09:54:10    0    False\n",
       "10883488        1 2013-04-13 15:31:32    5     True\n",
       "10883488        1 2013-04-03 08:58:49    2    False\n",
       "10883488        1 2013-04-03 08:58:48    2    False"
      ]
     },
     "execution_count": 14,
     "metadata": {},
     "output_type": "execute_result"
    }
   ],
   "source": [
    "timestamps_df.head()"
   ]
  },
  {
   "cell_type": "code",
   "execution_count": null,
   "metadata": {},
   "outputs": [],
   "source": [
    "#events_weekend_df = timestamps_df.groupby(by=[\"cluster\"])[\"weekend\"].value_counts()\n",
    "df = timestamps_df.groupby(by=\"user_id\")[\"weekend\"].mean().to_frame().merge(classification_df, left_index=True, right_on=\"user_id\")\n",
    "1 - df.groupby(by=\"cluster\").mean()"
   ]
  },
  {
   "cell_type": "code",
   "execution_count": null,
   "metadata": {},
   "outputs": [],
   "source": [
    "n_events_df = pd.DataFrame()\n",
    "#n_events_df[\"count\"] = timestamps_df.groupby(by=\"cluster\").count()[\"weekend\"]\n",
    "#n_events_df = n_events_df.squeeze()\n",
    "n_events_df = timestamps_df.groupby(by=\"cluster\")[\"timestamp\"].count()"
   ]
  },
  {
   "cell_type": "code",
   "execution_count": null,
   "metadata": {},
   "outputs": [],
   "source": [
    "events_weekend_df / n_events_df"
   ]
  },
  {
   "cell_type": "code",
   "execution_count": 15,
   "metadata": {},
   "outputs": [
    {
     "data": {
      "text/html": [
       "<div>\n",
       "<style scoped>\n",
       "    .dataframe tbody tr th:only-of-type {\n",
       "        vertical-align: middle;\n",
       "    }\n",
       "\n",
       "    .dataframe tbody tr th {\n",
       "        vertical-align: top;\n",
       "    }\n",
       "\n",
       "    .dataframe thead th {\n",
       "        text-align: right;\n",
       "    }\n",
       "</style>\n",
       "<table border=\"1\" class=\"dataframe\">\n",
       "  <thead>\n",
       "    <tr style=\"text-align: right;\">\n",
       "      <th></th>\n",
       "      <th>cluster</th>\n",
       "      <th>timestamp</th>\n",
       "      <th>day</th>\n",
       "      <th>weekend</th>\n",
       "      <th>hour</th>\n",
       "    </tr>\n",
       "    <tr>\n",
       "      <th>user_id</th>\n",
       "      <th></th>\n",
       "      <th></th>\n",
       "      <th></th>\n",
       "      <th></th>\n",
       "      <th></th>\n",
       "    </tr>\n",
       "  </thead>\n",
       "  <tbody>\n",
       "    <tr>\n",
       "      <td>10883488</td>\n",
       "      <td>1</td>\n",
       "      <td>2013-04-19 00:29:51</td>\n",
       "      <td>4</td>\n",
       "      <td>False</td>\n",
       "      <td>0</td>\n",
       "    </tr>\n",
       "    <tr>\n",
       "      <td>10883488</td>\n",
       "      <td>1</td>\n",
       "      <td>2013-04-15 09:54:10</td>\n",
       "      <td>0</td>\n",
       "      <td>False</td>\n",
       "      <td>9</td>\n",
       "    </tr>\n",
       "    <tr>\n",
       "      <td>10883488</td>\n",
       "      <td>1</td>\n",
       "      <td>2013-04-13 15:31:32</td>\n",
       "      <td>5</td>\n",
       "      <td>True</td>\n",
       "      <td>15</td>\n",
       "    </tr>\n",
       "    <tr>\n",
       "      <td>10883488</td>\n",
       "      <td>1</td>\n",
       "      <td>2013-04-03 08:58:49</td>\n",
       "      <td>2</td>\n",
       "      <td>False</td>\n",
       "      <td>8</td>\n",
       "    </tr>\n",
       "    <tr>\n",
       "      <td>10883488</td>\n",
       "      <td>1</td>\n",
       "      <td>2013-04-03 08:58:48</td>\n",
       "      <td>2</td>\n",
       "      <td>False</td>\n",
       "      <td>8</td>\n",
       "    </tr>\n",
       "  </tbody>\n",
       "</table>\n",
       "</div>"
      ],
      "text/plain": [
       "          cluster           timestamp  day  weekend  hour\n",
       "user_id                                                  \n",
       "10883488        1 2013-04-19 00:29:51    4    False     0\n",
       "10883488        1 2013-04-15 09:54:10    0    False     9\n",
       "10883488        1 2013-04-13 15:31:32    5     True    15\n",
       "10883488        1 2013-04-03 08:58:49    2    False     8\n",
       "10883488        1 2013-04-03 08:58:48    2    False     8"
      ]
     },
     "execution_count": 15,
     "metadata": {},
     "output_type": "execute_result"
    }
   ],
   "source": [
    "timestamps_df[\"hour\"] = timestamps_df[\"timestamp\"].dt.hour\n",
    "timestamps_df.head()"
   ]
  },
  {
   "cell_type": "code",
   "execution_count": 16,
   "metadata": {
    "scrolled": true
   },
   "outputs": [
    {
     "data": {
      "text/html": [
       "<div>\n",
       "<style scoped>\n",
       "    .dataframe tbody tr th:only-of-type {\n",
       "        vertical-align: middle;\n",
       "    }\n",
       "\n",
       "    .dataframe tbody tr th {\n",
       "        vertical-align: top;\n",
       "    }\n",
       "\n",
       "    .dataframe thead th {\n",
       "        text-align: right;\n",
       "    }\n",
       "</style>\n",
       "<table border=\"1\" class=\"dataframe\">\n",
       "  <thead>\n",
       "    <tr style=\"text-align: right;\">\n",
       "      <th></th>\n",
       "      <th>cluster</th>\n",
       "      <th>timestamp</th>\n",
       "      <th>day</th>\n",
       "      <th>weekend</th>\n",
       "      <th>hour</th>\n",
       "      <th>workday</th>\n",
       "    </tr>\n",
       "    <tr>\n",
       "      <th>user_id</th>\n",
       "      <th></th>\n",
       "      <th></th>\n",
       "      <th></th>\n",
       "      <th></th>\n",
       "      <th></th>\n",
       "      <th></th>\n",
       "    </tr>\n",
       "  </thead>\n",
       "  <tbody>\n",
       "    <tr>\n",
       "      <td>10883488</td>\n",
       "      <td>1</td>\n",
       "      <td>2013-04-19 00:29:51</td>\n",
       "      <td>4</td>\n",
       "      <td>False</td>\n",
       "      <td>0</td>\n",
       "      <td>False</td>\n",
       "    </tr>\n",
       "    <tr>\n",
       "      <td>10883488</td>\n",
       "      <td>1</td>\n",
       "      <td>2013-04-15 09:54:10</td>\n",
       "      <td>0</td>\n",
       "      <td>False</td>\n",
       "      <td>9</td>\n",
       "      <td>True</td>\n",
       "    </tr>\n",
       "    <tr>\n",
       "      <td>10883488</td>\n",
       "      <td>1</td>\n",
       "      <td>2013-04-13 15:31:32</td>\n",
       "      <td>5</td>\n",
       "      <td>True</td>\n",
       "      <td>15</td>\n",
       "      <td>False</td>\n",
       "    </tr>\n",
       "    <tr>\n",
       "      <td>10883488</td>\n",
       "      <td>1</td>\n",
       "      <td>2013-04-03 08:58:49</td>\n",
       "      <td>2</td>\n",
       "      <td>False</td>\n",
       "      <td>8</td>\n",
       "      <td>True</td>\n",
       "    </tr>\n",
       "    <tr>\n",
       "      <td>10883488</td>\n",
       "      <td>1</td>\n",
       "      <td>2013-04-03 08:58:48</td>\n",
       "      <td>2</td>\n",
       "      <td>False</td>\n",
       "      <td>8</td>\n",
       "      <td>True</td>\n",
       "    </tr>\n",
       "  </tbody>\n",
       "</table>\n",
       "</div>"
      ],
      "text/plain": [
       "          cluster           timestamp  day  weekend  hour  workday\n",
       "user_id                                                           \n",
       "10883488        1 2013-04-19 00:29:51    4    False     0    False\n",
       "10883488        1 2013-04-15 09:54:10    0    False     9     True\n",
       "10883488        1 2013-04-13 15:31:32    5     True    15    False\n",
       "10883488        1 2013-04-03 08:58:49    2    False     8     True\n",
       "10883488        1 2013-04-03 08:58:48    2    False     8     True"
      ]
     },
     "execution_count": 16,
     "metadata": {},
     "output_type": "execute_result"
    }
   ],
   "source": [
    "timestamps_df[\"workday\"] = np.logical_and(np.logical_and(timestamps_df[\"hour\"] <= 18, timestamps_df[\"hour\"] >= 7), timestamps_df[\"day\"] <= 4)\n",
    "#mask = (timestamps_df[\"hour\"] <= 18) & (timestamps_df[\"hour\"] >= 9) & (timestamps_df[\"day\"] <= 4)\n",
    "#timestamps_df = timestamps_df.loc[mask]\n",
    "timestamps_df.head()"
   ]
  },
  {
   "cell_type": "code",
   "execution_count": 24,
   "metadata": {},
   "outputs": [
    {
     "data": {
      "text/plain": [
       "cluster\n",
       "1    0.409444\n",
       "2    0.400637\n",
       "3    0.434644\n",
       "4    0.420096\n",
       "Name: workday, dtype: float64"
      ]
     },
     "execution_count": 24,
     "metadata": {},
     "output_type": "execute_result"
    }
   ],
   "source": [
    "timestamps_df[[\"workday\", \"cluster\"]].groupby(by=[\"cluster\", \"user_id\"])[\"workday\"].mean().groupby(\"cluster\").mean()"
   ]
  },
  {
   "cell_type": "code",
   "execution_count": 25,
   "metadata": {},
   "outputs": [
    {
     "data": {
      "text/plain": [
       "cluster\n",
       "1    0.177590\n",
       "2    0.167363\n",
       "3    0.173332\n",
       "4    0.163951\n",
       "Name: workday, dtype: float64"
      ]
     },
     "execution_count": 25,
     "metadata": {},
     "output_type": "execute_result"
    }
   ],
   "source": [
    "timestamps_df[[\"workday\", \"cluster\"]].groupby(by=[\"cluster\", \"user_id\"])[\"workday\"].mean().groupby(\"cluster\").std()"
   ]
  },
  {
   "cell_type": "code",
   "execution_count": null,
   "metadata": {},
   "outputs": [],
   "source": []
  },
  {
   "cell_type": "code",
   "execution_count": null,
   "metadata": {},
   "outputs": [],
   "source": []
  },
  {
   "cell_type": "code",
   "execution_count": null,
   "metadata": {},
   "outputs": [],
   "source": []
  },
  {
   "cell_type": "code",
   "execution_count": null,
   "metadata": {},
   "outputs": [],
   "source": []
  },
  {
   "cell_type": "code",
   "execution_count": 17,
   "metadata": {},
   "outputs": [
    {
     "data": {
      "text/plain": [
       "user_id\n",
       "1049656    3647\n",
       "1055118     253\n",
       "1056935    2907\n",
       "1070023     110\n",
       "1072752     857\n",
       "Name: workday, dtype: int64"
      ]
     },
     "execution_count": 17,
     "metadata": {},
     "output_type": "execute_result"
    }
   ],
   "source": [
    "n_events_workday_df = timestamps_df[timestamps_df[\"workday\"]].groupby(by=\"user_id\")[\"workday\"].count()\n",
    "n_events_workday_df.head()"
   ]
  },
  {
   "cell_type": "code",
   "execution_count": 18,
   "metadata": {},
   "outputs": [
    {
     "data": {
      "text/plain": [
       "user_id\n",
       "1049656    1796\n",
       "1055118     637\n",
       "1056935     170\n",
       "1070023     859\n",
       "1072752    1099\n",
       "Name: workday, dtype: int64"
      ]
     },
     "execution_count": 18,
     "metadata": {},
     "output_type": "execute_result"
    }
   ],
   "source": [
    "n_events_noworkday_df = timestamps_df[~timestamps_df[\"workday\"]].groupby(by=\"user_id\")[\"workday\"].count()\n",
    "n_events_noworkday_df.head()"
   ]
  },
  {
   "cell_type": "code",
   "execution_count": 19,
   "metadata": {},
   "outputs": [
    {
     "data": {
      "text/html": [
       "<div>\n",
       "<style scoped>\n",
       "    .dataframe tbody tr th:only-of-type {\n",
       "        vertical-align: middle;\n",
       "    }\n",
       "\n",
       "    .dataframe tbody tr th {\n",
       "        vertical-align: top;\n",
       "    }\n",
       "\n",
       "    .dataframe thead th {\n",
       "        text-align: right;\n",
       "    }\n",
       "</style>\n",
       "<table border=\"1\" class=\"dataframe\">\n",
       "  <thead>\n",
       "    <tr style=\"text-align: right;\">\n",
       "      <th></th>\n",
       "      <th>workday</th>\n",
       "    </tr>\n",
       "    <tr>\n",
       "      <th>cluster</th>\n",
       "      <th></th>\n",
       "    </tr>\n",
       "  </thead>\n",
       "  <tbody>\n",
       "    <tr>\n",
       "      <td>1</td>\n",
       "      <td>0.409444</td>\n",
       "    </tr>\n",
       "    <tr>\n",
       "      <td>2</td>\n",
       "      <td>0.400416</td>\n",
       "    </tr>\n",
       "    <tr>\n",
       "      <td>3</td>\n",
       "      <td>0.434644</td>\n",
       "    </tr>\n",
       "    <tr>\n",
       "      <td>4</td>\n",
       "      <td>0.420096</td>\n",
       "    </tr>\n",
       "  </tbody>\n",
       "</table>\n",
       "</div>"
      ],
      "text/plain": [
       "          workday\n",
       "cluster          \n",
       "1        0.409444\n",
       "2        0.400416\n",
       "3        0.434644\n",
       "4        0.420096"
      ]
     },
     "execution_count": 19,
     "metadata": {},
     "output_type": "execute_result"
    }
   ],
   "source": [
    "df = (n_events_workday_df / (n_events_workday_df + n_events_noworkday_df)).to_frame()\n",
    "df = df.merge(classification_df, left_index=True, right_index=True)\n",
    "df.groupby(by=\"cluster\").mean()"
   ]
  },
  {
   "cell_type": "code",
   "execution_count": null,
   "metadata": {},
   "outputs": [],
   "source": []
  },
  {
   "cell_type": "code",
   "execution_count": 26,
   "metadata": {},
   "outputs": [
    {
     "data": {
      "text/html": [
       "<div>\n",
       "<style scoped>\n",
       "    .dataframe tbody tr th:only-of-type {\n",
       "        vertical-align: middle;\n",
       "    }\n",
       "\n",
       "    .dataframe tbody tr th {\n",
       "        vertical-align: top;\n",
       "    }\n",
       "\n",
       "    .dataframe thead tr th {\n",
       "        text-align: left;\n",
       "    }\n",
       "\n",
       "    .dataframe thead tr:last-of-type th {\n",
       "        text-align: right;\n",
       "    }\n",
       "</style>\n",
       "<table border=\"1\" class=\"dataframe\">\n",
       "  <thead>\n",
       "    <tr>\n",
       "      <th></th>\n",
       "      <th colspan=\"8\" halign=\"left\">workday</th>\n",
       "    </tr>\n",
       "    <tr>\n",
       "      <th></th>\n",
       "      <th>count</th>\n",
       "      <th>mean</th>\n",
       "      <th>std</th>\n",
       "      <th>min</th>\n",
       "      <th>25%</th>\n",
       "      <th>50%</th>\n",
       "      <th>75%</th>\n",
       "      <th>max</th>\n",
       "    </tr>\n",
       "    <tr>\n",
       "      <th>cluster</th>\n",
       "      <th></th>\n",
       "      <th></th>\n",
       "      <th></th>\n",
       "      <th></th>\n",
       "      <th></th>\n",
       "      <th></th>\n",
       "      <th></th>\n",
       "      <th></th>\n",
       "    </tr>\n",
       "  </thead>\n",
       "  <tbody>\n",
       "    <tr>\n",
       "      <td>1</td>\n",
       "      <td>390.0</td>\n",
       "      <td>0.409444</td>\n",
       "      <td>0.177590</td>\n",
       "      <td>0.023307</td>\n",
       "      <td>0.298339</td>\n",
       "      <td>0.402631</td>\n",
       "      <td>0.513899</td>\n",
       "      <td>0.980551</td>\n",
       "    </tr>\n",
       "    <tr>\n",
       "      <td>2</td>\n",
       "      <td>902.0</td>\n",
       "      <td>0.400637</td>\n",
       "      <td>0.167363</td>\n",
       "      <td>0.000000</td>\n",
       "      <td>0.275853</td>\n",
       "      <td>0.404320</td>\n",
       "      <td>0.506948</td>\n",
       "      <td>1.000000</td>\n",
       "    </tr>\n",
       "    <tr>\n",
       "      <td>3</td>\n",
       "      <td>101.0</td>\n",
       "      <td>0.434644</td>\n",
       "      <td>0.173332</td>\n",
       "      <td>0.015942</td>\n",
       "      <td>0.311852</td>\n",
       "      <td>0.408526</td>\n",
       "      <td>0.525664</td>\n",
       "      <td>0.893645</td>\n",
       "    </tr>\n",
       "    <tr>\n",
       "      <td>4</td>\n",
       "      <td>680.0</td>\n",
       "      <td>0.420096</td>\n",
       "      <td>0.163951</td>\n",
       "      <td>0.030507</td>\n",
       "      <td>0.302292</td>\n",
       "      <td>0.421797</td>\n",
       "      <td>0.516876</td>\n",
       "      <td>0.960194</td>\n",
       "    </tr>\n",
       "  </tbody>\n",
       "</table>\n",
       "</div>"
      ],
      "text/plain": [
       "        workday                                                              \\\n",
       "          count      mean       std       min       25%       50%       75%   \n",
       "cluster                                                                       \n",
       "1         390.0  0.409444  0.177590  0.023307  0.298339  0.402631  0.513899   \n",
       "2         902.0  0.400637  0.167363  0.000000  0.275853  0.404320  0.506948   \n",
       "3         101.0  0.434644  0.173332  0.015942  0.311852  0.408526  0.525664   \n",
       "4         680.0  0.420096  0.163951  0.030507  0.302292  0.421797  0.516876   \n",
       "\n",
       "                   \n",
       "              max  \n",
       "cluster            \n",
       "1        0.980551  \n",
       "2        1.000000  \n",
       "3        0.893645  \n",
       "4        0.960194  "
      ]
     },
     "execution_count": 26,
     "metadata": {},
     "output_type": "execute_result"
    }
   ],
   "source": [
    "df = classification_df.copy()\n",
    "df = df.merge(timestamps_df.groupby(by=\"user_id\")[\"workday\"].mean().to_frame(), left_index=True, right_index=True)\n",
    "df.groupby(by=\"cluster\").describe()"
   ]
  },
  {
   "cell_type": "code",
   "execution_count": 27,
   "metadata": {},
   "outputs": [
    {
     "data": {
      "text/plain": [
       "cluster  user_id  workday\n",
       "1        1072752  False      1099\n",
       "                  True        857\n",
       "         2095434  False      1172\n",
       "                  True        937\n",
       "         2109450  False      1683\n",
       "Name: workday, dtype: int64"
      ]
     },
     "execution_count": 27,
     "metadata": {},
     "output_type": "execute_result"
    }
   ],
   "source": [
    "events_workday_df = timestamps_df.groupby(by=[\"cluster\", \"user_id\"])[\"workday\"].value_counts()\n",
    "#events_workday_df = timestamps_df.groupby(by=\"cluster\")[\"workday\"].value_counts()\n",
    "events_workday_df.head()"
   ]
  },
  {
   "cell_type": "code",
   "execution_count": 28,
   "metadata": {},
   "outputs": [
    {
     "data": {
      "text/plain": [
       "cluster  user_id   workday\n",
       "1        1072752   False      0.561861\n",
       "                   True       0.438139\n",
       "         2095434   False      0.555714\n",
       "                   True       0.444286\n",
       "         2109450   False      0.845729\n",
       "                                ...   \n",
       "4        49874586  True       0.482704\n",
       "         49951110  True       0.519830\n",
       "                   False      0.480170\n",
       "         50071075  False      0.786982\n",
       "                   True       0.213018\n",
       "Name: workday, Length: 4144, dtype: float64"
      ]
     },
     "execution_count": 28,
     "metadata": {},
     "output_type": "execute_result"
    }
   ],
   "source": [
    "(events_workday_df / events_workday_df.groupby(level=[1]).sum())"
   ]
  },
  {
   "cell_type": "code",
   "execution_count": 29,
   "metadata": {},
   "outputs": [
    {
     "ename": "NameError",
     "evalue": "name 'n_events_df' is not defined",
     "output_type": "error",
     "traceback": [
      "\u001b[1;31m---------------------------------------------------------------------------\u001b[0m",
      "\u001b[1;31mNameError\u001b[0m                                 Traceback (most recent call last)",
      "\u001b[1;32m<ipython-input-29-39e7afd7d68a>\u001b[0m in \u001b[0;36m<module>\u001b[1;34m\u001b[0m\n\u001b[1;32m----> 1\u001b[1;33m \u001b[0mevents_workday_df\u001b[0m \u001b[1;33m/\u001b[0m \u001b[0mn_events_df\u001b[0m\u001b[1;33m\u001b[0m\u001b[1;33m\u001b[0m\u001b[0m\n\u001b[0m",
      "\u001b[1;31mNameError\u001b[0m: name 'n_events_df' is not defined"
     ]
    }
   ],
   "source": [
    "events_workday_df / n_events_df"
   ]
  },
  {
   "cell_type": "code",
   "execution_count": null,
   "metadata": {},
   "outputs": [],
   "source": [
    "timestamps_df[\"freetime\"] = ~timestamps_df[\"workday\"]\n",
    "timestamps_df.head()"
   ]
  },
  {
   "cell_type": "code",
   "execution_count": null,
   "metadata": {},
   "outputs": [],
   "source": [
    "events_freetime_df = timestamps_df.groupby(by=\"cluster\")[\"freetime\"].value_counts()\n",
    "events_freetime_df"
   ]
  },
  {
   "cell_type": "code",
   "execution_count": null,
   "metadata": {},
   "outputs": [],
   "source": [
    "events_freetime_df / n_events_df"
   ]
  },
  {
   "cell_type": "code",
   "execution_count": null,
   "metadata": {},
   "outputs": [],
   "source": [
    "# user similarity"
   ]
  },
  {
   "cell_type": "code",
   "execution_count": null,
   "metadata": {},
   "outputs": [],
   "source": [
    "genres_per_user_df.head()"
   ]
  },
  {
   "cell_type": "code",
   "execution_count": null,
   "metadata": {},
   "outputs": [],
   "source": [
    "genre_occs_df = genres_per_user_df.merge(classification_df, left_on=\"user_id\", right_index=True)[\"genres\"].apply(Counter).to_frame()\n",
    "genre_occs_df.index.name = \"user_id\"\n",
    "genre_occs_df.head()"
   ]
  },
  {
   "cell_type": "code",
   "execution_count": null,
   "metadata": {},
   "outputs": [],
   "source": [
    "track_genres_df[\"genres\"] = track_genres_df[\"genres\"].apply(lambda row: ast.literal_eval(row))"
   ]
  },
  {
   "cell_type": "code",
   "execution_count": null,
   "metadata": {},
   "outputs": [],
   "source": [
    "track_genres_df.head()"
   ]
  },
  {
   "cell_type": "code",
   "execution_count": null,
   "metadata": {},
   "outputs": [],
   "source": []
  },
  {
   "cell_type": "code",
   "execution_count": null,
   "metadata": {},
   "outputs": [],
   "source": []
  },
  {
   "cell_type": "code",
   "execution_count": null,
   "metadata": {},
   "outputs": [],
   "source": []
  },
  {
   "cell_type": "code",
   "execution_count": null,
   "metadata": {},
   "outputs": [],
   "source": []
  },
  {
   "cell_type": "code",
   "execution_count": null,
   "metadata": {},
   "outputs": [],
   "source": [
    "# life ladder per usergroup"
   ]
  },
  {
   "cell_type": "code",
   "execution_count": null,
   "metadata": {},
   "outputs": [],
   "source": [
    "world_happiness_df = pd.read_csv(\"../feature_engineering/data/world_happiness_latest.csv\", sep=\";\")\n",
    "world_happiness_df.head()"
   ]
  },
  {
   "cell_type": "code",
   "execution_count": null,
   "metadata": {},
   "outputs": [],
   "source": [
    "demographics_df.head()"
   ]
  },
  {
   "cell_type": "code",
   "execution_count": null,
   "metadata": {},
   "outputs": [],
   "source": [
    "pycountry.countries.get(alpha_2=\"FI\").name"
   ]
  },
  {
   "cell_type": "code",
   "execution_count": null,
   "metadata": {},
   "outputs": [],
   "source": [
    "user_lifeladder_df = pd.DataFrame()\n",
    "for uid, row in demographics_df.iterrows():\n",
    "    ctr = row[0]\n",
    "    cluster = row[3]\n",
    "    country_name = pycountry.countries.get(alpha_2=ctr)\n",
    "    if country_name:\n",
    "        new_row = pd.DataFrame(index=[uid], data={\"country\": [country_name.name], \"cluster\": [cluster]})\n",
    "        user_lifeladder_df = user_lifeladder_df.append(new_row)"
   ]
  },
  {
   "cell_type": "code",
   "execution_count": null,
   "metadata": {},
   "outputs": [],
   "source": [
    "user_lifeladder_df.index.name = \"user_id\"\n",
    "user_lifeladder_df.head()"
   ]
  },
  {
   "cell_type": "code",
   "execution_count": null,
   "metadata": {},
   "outputs": [],
   "source": [
    "user_lifeladder_df = user_lifeladder_df.reset_index().merge(world_happiness_df, left_on=\"country\", right_on=\"country\")\n",
    "user_lifeladder_df.head()"
   ]
  },
  {
   "cell_type": "code",
   "execution_count": null,
   "metadata": {},
   "outputs": [],
   "source": [
    "%matplotlib qt\n",
    "#%matplotlib inline \n",
    "\n",
    "del user_lifeladder_df[\"user_id\"]\n",
    "del user_lifeladder_df[\"year\"]\n",
    "del user_lifeladder_df[\"Healthy life expectancy at birth\"]\n",
    "user_lifeladder_df.groupby(by=\"cluster\").boxplot()"
   ]
  },
  {
   "cell_type": "code",
   "execution_count": null,
   "metadata": {},
   "outputs": [],
   "source": []
  },
  {
   "cell_type": "code",
   "execution_count": null,
   "metadata": {},
   "outputs": [],
   "source": [
    "track_cluster_df = pd.read_csv(\"track_to_cluster.csv\", sep=\";\", index_col=\"track_id\")\n",
    "track_cluster_df = track_cluster_df[track_cluster_df[\"cluster\"] != -1]\n",
    "track_cluster_df.head()"
   ]
  },
  {
   "cell_type": "code",
   "execution_count": null,
   "metadata": {},
   "outputs": [],
   "source": [
    "df = track_cluster_df.merge(track_genres_df, left_index=True, right_index=True)\n",
    "df.merge(events_df, left_index=True, right_on=\"track_id\")"
   ]
  },
  {
   "cell_type": "code",
   "execution_count": null,
   "metadata": {},
   "outputs": [],
   "source": []
  },
  {
   "cell_type": "code",
   "execution_count": null,
   "metadata": {},
   "outputs": [],
   "source": []
  },
  {
   "cell_type": "code",
   "execution_count": null,
   "metadata": {},
   "outputs": [],
   "source": []
  },
  {
   "cell_type": "code",
   "execution_count": null,
   "metadata": {},
   "outputs": [],
   "source": []
  },
  {
   "cell_type": "code",
   "execution_count": null,
   "metadata": {},
   "outputs": [],
   "source": []
  },
  {
   "cell_type": "code",
   "execution_count": null,
   "metadata": {},
   "outputs": [],
   "source": [
    "# events per genre in cluster"
   ]
  },
  {
   "cell_type": "code",
   "execution_count": null,
   "metadata": {},
   "outputs": [],
   "source": [
    "event_genres_df = events_df.merge(track_genres_df, left_on=\"track_id\", right_on=\"track_id\").merge(classification_df, left_on=\"user_id\", right_index=True)\n",
    "event_genres_df.head()"
   ]
  },
  {
   "cell_type": "code",
   "execution_count": null,
   "metadata": {},
   "outputs": [],
   "source": [
    "event_genres_df[\"genres\"] = event_genres_df[\"genres\"].apply(lambda row: ast.literal_eval(row))\n",
    "event_genres_df[\"genres\"] = event_genres_df[\"genres\"].apply(Counter)"
   ]
  },
  {
   "cell_type": "code",
   "execution_count": null,
   "metadata": {},
   "outputs": [],
   "source": [
    "len(event_genres_df)"
   ]
  },
  {
   "cell_type": "code",
   "execution_count": null,
   "metadata": {},
   "outputs": [],
   "source": [
    "n_tracks_per_cluster = user_track_df.merge(classification_df, left_index=True, right_on=\"user_id\")[[\"track_id\", \"cluster\"]].groupby(by=\"cluster\")[\"track_id\"].nunique()"
   ]
  },
  {
   "cell_type": "code",
   "execution_count": null,
   "metadata": {},
   "outputs": [],
   "source": [
    "n_tracks_per_cluster"
   ]
  },
  {
   "cell_type": "code",
   "execution_count": null,
   "metadata": {},
   "outputs": [],
   "source": []
  },
  {
   "cell_type": "code",
   "execution_count": null,
   "metadata": {
    "scrolled": false
   },
   "outputs": [],
   "source": [
    "df = event_genres_df.groupby(by=\"cluster\")[\"genres\"].sum() / n_tracks_per_cluster"
   ]
  },
  {
   "cell_type": "code",
   "execution_count": null,
   "metadata": {},
   "outputs": [],
   "source": [
    "df.head()"
   ]
  },
  {
   "cell_type": "code",
   "execution_count": null,
   "metadata": {},
   "outputs": [],
   "source": []
  },
  {
   "cell_type": "code",
   "execution_count": null,
   "metadata": {},
   "outputs": [],
   "source": [
    "%matplotlib qt\n",
    "c = 1\n",
    "for count in df:\n",
    "    sorted_occs = sorted(dict(count).items(), key=lambda tup: tup[1])[::-1][:30]\n",
    "    ys = list(zip(*sorted_occs))[1]\n",
    "    ys = np.array(ys) / n_tracks_per_cluster.loc[c]\n",
    "    plt.plot(list(range(30)), ys, \"-o\", label=\"U\" + str(c))\n",
    "    c += 1\n",
    "plt.legend()\n",
    "plt.ylabel(\"Listening Events\")\n",
    "plt.xlabel(\"Top 30 genres\")\n",
    "plt.show()\n",
    "    "
   ]
  },
  {
   "cell_type": "code",
   "execution_count": null,
   "metadata": {},
   "outputs": [],
   "source": []
  },
  {
   "cell_type": "code",
   "execution_count": null,
   "metadata": {},
   "outputs": [],
   "source": []
  },
  {
   "cell_type": "code",
   "execution_count": null,
   "metadata": {},
   "outputs": [],
   "source": []
  },
  {
   "cell_type": "code",
   "execution_count": null,
   "metadata": {},
   "outputs": [],
   "source": [
    "# events per workday"
   ]
  },
  {
   "cell_type": "code",
   "execution_count": null,
   "metadata": {},
   "outputs": [],
   "source": [
    "workday_df = pd.read_csv(\"../feature_engineering/data/rel_events_within_workday.csv\", sep=\";\")\n",
    "workday_df.head()"
   ]
  },
  {
   "cell_type": "code",
   "execution_count": null,
   "metadata": {},
   "outputs": [],
   "source": [
    "workday_df.merge(classification_df, left_on=\"user_id\", right_on=\"user_id\").groupby(by=\"cluster\")[\"LEs\"].mean()"
   ]
  },
  {
   "cell_type": "code",
   "execution_count": null,
   "metadata": {},
   "outputs": [],
   "source": []
  },
  {
   "cell_type": "code",
   "execution_count": null,
   "metadata": {},
   "outputs": [],
   "source": [
    "users_df = pd.read_csv(\"../feature_engineering/data/low_main_users.txt\", index_col=\"user_id\")\n",
    "users_df.head()"
   ]
  },
  {
   "cell_type": "code",
   "execution_count": null,
   "metadata": {},
   "outputs": [],
   "source": [
    "df = users_df[[\"cnt_listeningevents\", \"cnt_distinct_artists\", \"cnt_distinct_tracks\"]].stack().to_frame()\n",
    "df.columns = [\"value\"]\n",
    "df.index.names = [\"user_id\", \"feature\"]\n",
    "df = df.reset_index()\n",
    "df.head()"
   ]
  },
  {
   "cell_type": "code",
   "execution_count": null,
   "metadata": {},
   "outputs": [],
   "source": [
    "df = df.merge(classification_df, left_on=\"user_id\", right_on=\"user_id\")\n",
    "df.set_index(\"user_id\", inplace=True)\n",
    "df.head()"
   ]
  },
  {
   "cell_type": "code",
   "execution_count": null,
   "metadata": {},
   "outputs": [],
   "source": [
    "sns.boxplot(x=\"value\", y=\"feature\", hue=\"cluster\", data=df)"
   ]
  },
  {
   "cell_type": "code",
   "execution_count": null,
   "metadata": {},
   "outputs": [],
   "source": []
  },
  {
   "cell_type": "code",
   "execution_count": null,
   "metadata": {},
   "outputs": [],
   "source": [
    "user_features_df = pd.DataFrame()"
   ]
  },
  {
   "cell_type": "code",
   "execution_count": null,
   "metadata": {},
   "outputs": [],
   "source": [
    "df = events_df.groupby(by=\"user_id\")[\"timestamp\"].count().to_frame().merge(classification_df, left_on=\"user_id\", right_on=\"user_id\")\n",
    "df.columns = [\"user_id\", \"LEs\", \"cluster\"]\n",
    "df.head()"
   ]
  },
  {
   "cell_type": "code",
   "execution_count": null,
   "metadata": {},
   "outputs": [],
   "source": [
    "user_features_df = df[[\"user_id\", \"LEs\", \"cluster\"]].copy()"
   ]
  },
  {
   "cell_type": "code",
   "execution_count": null,
   "metadata": {},
   "outputs": [],
   "source": [
    "df.groupby(by=\"cluster\")[\"LEs\"].mean()"
   ]
  },
  {
   "cell_type": "code",
   "execution_count": null,
   "metadata": {},
   "outputs": [],
   "source": [
    "events_per_user_df = df.copy()"
   ]
  },
  {
   "cell_type": "code",
   "execution_count": null,
   "metadata": {},
   "outputs": [],
   "source": []
  },
  {
   "cell_type": "code",
   "execution_count": null,
   "metadata": {},
   "outputs": [],
   "source": [
    "df = events_df.groupby(by=\"user_id\")[\"track_id\"].nunique().to_frame().merge(classification_df, left_on=\"user_id\", right_on=\"user_id\")[[\"user_id\", \"track_id\", \"cluster\"]]\n",
    "df.columns = [\"user_id\", \"n_dist_tracks\", \"cluster\"]\n",
    "df.head()"
   ]
  },
  {
   "cell_type": "code",
   "execution_count": null,
   "metadata": {},
   "outputs": [],
   "source": []
  },
  {
   "cell_type": "code",
   "execution_count": null,
   "metadata": {},
   "outputs": [],
   "source": [
    "tracks_per_cluster_df = pd.read_csv(\"track_to_cluster.csv\", sep=\";\")\n",
    "tracks_per_cluster_df = tracks_per_cluster_df.groupby(by=\"cluster\").count()\n",
    "tracks_per_cluster_df.columns = [\"n_tracks\"]\n",
    "tracks_per_cluster_df = tracks_per_cluster_df.drop(-1)\n",
    "tracks_per_cluster_df.index += 1\n",
    "tracks_per_cluster_df"
   ]
  },
  {
   "cell_type": "code",
   "execution_count": null,
   "metadata": {},
   "outputs": [],
   "source": []
  },
  {
   "cell_type": "code",
   "execution_count": null,
   "metadata": {},
   "outputs": [],
   "source": [
    "pd.options.display.float_format = '{:20,.15f}'.format"
   ]
  },
  {
   "cell_type": "code",
   "execution_count": null,
   "metadata": {},
   "outputs": [],
   "source": [
    "df.groupby(by=\"cluster\")[\"n_dist_tracks\"].mean()"
   ]
  },
  {
   "cell_type": "code",
   "execution_count": null,
   "metadata": {},
   "outputs": [],
   "source": [
    "dist_tracks_per_user_df = df.copy()"
   ]
  },
  {
   "cell_type": "code",
   "execution_count": null,
   "metadata": {},
   "outputs": [],
   "source": [
    "events_per_user_df.head()"
   ]
  },
  {
   "cell_type": "code",
   "execution_count": null,
   "metadata": {},
   "outputs": [],
   "source": [
    "dist_tracks_per_user_df.head()"
   ]
  },
  {
   "cell_type": "code",
   "execution_count": null,
   "metadata": {},
   "outputs": [],
   "source": [
    "df = events_per_user_df.merge(dist_tracks_per_user_df[[\"user_id\", \"n_dist_tracks\"]], left_on=\"user_id\", right_on=\"user_id\")\n",
    "df.head()"
   ]
  },
  {
   "cell_type": "code",
   "execution_count": null,
   "metadata": {},
   "outputs": [],
   "source": [
    "df[\"events_per_track\"] = df[\"LEs\"] / df[\"n_dist_tracks\"]\n",
    "df.head()"
   ]
  },
  {
   "cell_type": "code",
   "execution_count": null,
   "metadata": {},
   "outputs": [],
   "source": [
    "df.groupby(by=\"cluster\")[\"events_per_track\"].mean()"
   ]
  },
  {
   "cell_type": "code",
   "execution_count": null,
   "metadata": {},
   "outputs": [],
   "source": [
    "events_df.head()"
   ]
  },
  {
   "cell_type": "code",
   "execution_count": null,
   "metadata": {},
   "outputs": [],
   "source": []
  },
  {
   "cell_type": "code",
   "execution_count": null,
   "metadata": {},
   "outputs": [],
   "source": []
  },
  {
   "cell_type": "code",
   "execution_count": null,
   "metadata": {},
   "outputs": [],
   "source": []
  },
  {
   "cell_type": "code",
   "execution_count": null,
   "metadata": {},
   "outputs": [],
   "source": []
  },
  {
   "cell_type": "code",
   "execution_count": null,
   "metadata": {},
   "outputs": [],
   "source": []
  },
  {
   "cell_type": "code",
   "execution_count": null,
   "metadata": {},
   "outputs": [],
   "source": []
  },
  {
   "cell_type": "code",
   "execution_count": null,
   "metadata": {},
   "outputs": [],
   "source": []
  },
  {
   "cell_type": "code",
   "execution_count": null,
   "metadata": {},
   "outputs": [],
   "source": []
  },
  {
   "cell_type": "code",
   "execution_count": null,
   "metadata": {},
   "outputs": [],
   "source": []
  },
  {
   "cell_type": "code",
   "execution_count": null,
   "metadata": {},
   "outputs": [],
   "source": []
  },
  {
   "cell_type": "code",
   "execution_count": null,
   "metadata": {},
   "outputs": [],
   "source": []
  },
  {
   "cell_type": "code",
   "execution_count": null,
   "metadata": {},
   "outputs": [],
   "source": []
  },
  {
   "cell_type": "code",
   "execution_count": null,
   "metadata": {},
   "outputs": [],
   "source": [
    "df = events_df.groupby(by=\"user_id\")[\"artist_id\"].nunique().to_frame().merge(classification_df, left_on=\"user_id\", right_on=\"user_id\")[[\"user_id\", \"artist_id\", \"cluster\"]]\n",
    "df.columns = [\"user_id\", \"n_dist_artists\", \"cluster\"]\n",
    "df.head()"
   ]
  },
  {
   "cell_type": "code",
   "execution_count": null,
   "metadata": {},
   "outputs": [],
   "source": [
    "user_features_df[\"n_dist_artists\"] = user_features_df.merge(df, left_on=\"user_id\", right_on=\"user_id\")[\"n_dist_artists\"]"
   ]
  },
  {
   "cell_type": "code",
   "execution_count": null,
   "metadata": {},
   "outputs": [],
   "source": [
    "df.groupby(by=\"cluster\")[\"n_dist_artists\"].mean()"
   ]
  },
  {
   "cell_type": "code",
   "execution_count": null,
   "metadata": {},
   "outputs": [],
   "source": [
    "user_features_df.head()"
   ]
  },
  {
   "cell_type": "code",
   "execution_count": null,
   "metadata": {},
   "outputs": [],
   "source": []
  },
  {
   "cell_type": "code",
   "execution_count": null,
   "metadata": {},
   "outputs": [],
   "source": [
    "df = user_features_df.set_index(\"user_id\")[[\"LEs\", \"n_dist_tracks\", \"n_dist_artists\"]].stack()\n",
    "df = df.to_frame().reset_index()\n",
    "df = df.merge(classification_df, left_on=\"user_id\", right_on=\"user_id\")"
   ]
  },
  {
   "cell_type": "code",
   "execution_count": null,
   "metadata": {},
   "outputs": [],
   "source": [
    "df.columns = [\"user_id\", \"feature\", \"value\", \"cluster\"]\n",
    "df.head()"
   ]
  },
  {
   "cell_type": "code",
   "execution_count": null,
   "metadata": {},
   "outputs": [],
   "source": []
  },
  {
   "cell_type": "code",
   "execution_count": null,
   "metadata": {},
   "outputs": [],
   "source": [
    "sns.boxplot(x=\"feature\", y=\"value\", hue=\"cluster\", data=df, showmeans=True)"
   ]
  },
  {
   "cell_type": "code",
   "execution_count": null,
   "metadata": {},
   "outputs": [],
   "source": []
  },
  {
   "cell_type": "code",
   "execution_count": null,
   "metadata": {},
   "outputs": [],
   "source": [
    "df = events_df.groupby(by=\"user_id\")[\"artist_id\"].nunique().to_frame().merge(classification_df, left_index=True, right_on=\"user_id\").set_index(\"user_id\")\n",
    "df.groupby(by=\"cluster\").mean()"
   ]
  },
  {
   "cell_type": "code",
   "execution_count": null,
   "metadata": {},
   "outputs": [],
   "source": [
    "df = events_df.groupby(by=\"user_id\")[\"track_id\"].nunique().to_frame().merge(classification_df, left_index=True, right_on=\"user_id\").set_index(\"user_id\")\n",
    "df.groupby(by=\"cluster\").mean()"
   ]
  },
  {
   "cell_type": "code",
   "execution_count": null,
   "metadata": {},
   "outputs": [],
   "source": [
    " "
   ]
  },
  {
   "cell_type": "code",
   "execution_count": null,
   "metadata": {},
   "outputs": [],
   "source": []
  },
  {
   "cell_type": "code",
   "execution_count": null,
   "metadata": {},
   "outputs": [],
   "source": [
    "user_track_df[\"track_id\"].nunique()"
   ]
  },
  {
   "cell_type": "code",
   "execution_count": null,
   "metadata": {},
   "outputs": [],
   "source": []
  },
  {
   "cell_type": "raw",
   "metadata": {},
   "source": []
  },
  {
   "cell_type": "code",
   "execution_count": null,
   "metadata": {},
   "outputs": [],
   "source": [
    "# tracks"
   ]
  },
  {
   "cell_type": "code",
   "execution_count": null,
   "metadata": {},
   "outputs": [],
   "source": [
    "user_track_df.merge(classification_df, left_index=True, right_on=\"user_id\").groupby(by=\"cluster\")[\"track_id\"].nunique()"
   ]
  },
  {
   "cell_type": "code",
   "execution_count": null,
   "metadata": {},
   "outputs": [],
   "source": []
  },
  {
   "cell_type": "code",
   "execution_count": 30,
   "metadata": {},
   "outputs": [
    {
     "data": {
      "text/html": [
       "<div>\n",
       "<style scoped>\n",
       "    .dataframe tbody tr th:only-of-type {\n",
       "        vertical-align: middle;\n",
       "    }\n",
       "\n",
       "    .dataframe tbody tr th {\n",
       "        vertical-align: top;\n",
       "    }\n",
       "\n",
       "    .dataframe thead th {\n",
       "        text-align: right;\n",
       "    }\n",
       "</style>\n",
       "<table border=\"1\" class=\"dataframe\">\n",
       "  <thead>\n",
       "    <tr style=\"text-align: right;\">\n",
       "      <th></th>\n",
       "      <th>LEs</th>\n",
       "      <th>cluster</th>\n",
       "    </tr>\n",
       "    <tr>\n",
       "      <th>user_id</th>\n",
       "      <th></th>\n",
       "      <th></th>\n",
       "    </tr>\n",
       "  </thead>\n",
       "  <tbody>\n",
       "    <tr>\n",
       "      <td>1049656</td>\n",
       "      <td>5443</td>\n",
       "      <td>3</td>\n",
       "    </tr>\n",
       "    <tr>\n",
       "      <td>1055118</td>\n",
       "      <td>890</td>\n",
       "      <td>2</td>\n",
       "    </tr>\n",
       "    <tr>\n",
       "      <td>1056935</td>\n",
       "      <td>3077</td>\n",
       "      <td>2</td>\n",
       "    </tr>\n",
       "    <tr>\n",
       "      <td>1070023</td>\n",
       "      <td>969</td>\n",
       "      <td>4</td>\n",
       "    </tr>\n",
       "    <tr>\n",
       "      <td>1072752</td>\n",
       "      <td>1956</td>\n",
       "      <td>1</td>\n",
       "    </tr>\n",
       "  </tbody>\n",
       "</table>\n",
       "</div>"
      ],
      "text/plain": [
       "          LEs  cluster\n",
       "user_id               \n",
       "1049656  5443        3\n",
       "1055118   890        2\n",
       "1056935  3077        2\n",
       "1070023   969        4\n",
       "1072752  1956        1"
      ]
     },
     "execution_count": 30,
     "metadata": {},
     "output_type": "execute_result"
    }
   ],
   "source": [
    "# user activity\n",
    "n_events_df = events_df.groupby(by=\"user_id\")[\"timestamp\"].count().to_frame().merge(classification_df, left_on=\"user_id\", right_on=\"user_id\")\n",
    "n_events_df.columns = [\"LEs\", \"cluster\"]\n",
    "n_events_df.head()"
   ]
  },
  {
   "cell_type": "code",
   "execution_count": 31,
   "metadata": {},
   "outputs": [
    {
     "data": {
      "text/plain": [
       "(Timestamp('2005-02-14 03:03:17'), Timestamp('2014-09-02 01:56:08'))"
      ]
     },
     "execution_count": 31,
     "metadata": {},
     "output_type": "execute_result"
    }
   ],
   "source": [
    "from datetime import datetime\n",
    "start = pd.Timestamp(datetime.fromtimestamp(events_df[\"timestamp\"].min()))\n",
    "end = pd.Timestamp(datetime.fromtimestamp(events_df[\"timestamp\"].max()))\n",
    "(start, end)"
   ]
  },
  {
   "cell_type": "code",
   "execution_count": 32,
   "metadata": {},
   "outputs": [
    {
     "data": {
      "text/html": [
       "<div>\n",
       "<style scoped>\n",
       "    .dataframe tbody tr th:only-of-type {\n",
       "        vertical-align: middle;\n",
       "    }\n",
       "\n",
       "    .dataframe tbody tr th {\n",
       "        vertical-align: top;\n",
       "    }\n",
       "\n",
       "    .dataframe thead th {\n",
       "        text-align: right;\n",
       "    }\n",
       "</style>\n",
       "<table border=\"1\" class=\"dataframe\">\n",
       "  <thead>\n",
       "    <tr style=\"text-align: right;\">\n",
       "      <th></th>\n",
       "      <th>time</th>\n",
       "    </tr>\n",
       "    <tr>\n",
       "      <th>user_id</th>\n",
       "      <th></th>\n",
       "    </tr>\n",
       "  </thead>\n",
       "  <tbody>\n",
       "    <tr>\n",
       "      <td>1049656</td>\n",
       "      <td>496 days 08:43:25</td>\n",
       "    </tr>\n",
       "    <tr>\n",
       "      <td>1055118</td>\n",
       "      <td>2479 days 06:37:17</td>\n",
       "    </tr>\n",
       "    <tr>\n",
       "      <td>1056935</td>\n",
       "      <td>1357 days 01:15:12</td>\n",
       "    </tr>\n",
       "    <tr>\n",
       "      <td>1070023</td>\n",
       "      <td>1580 days 01:22:13</td>\n",
       "    </tr>\n",
       "    <tr>\n",
       "      <td>1072752</td>\n",
       "      <td>2239 days 20:44:26</td>\n",
       "    </tr>\n",
       "  </tbody>\n",
       "</table>\n",
       "</div>"
      ],
      "text/plain": [
       "                      time\n",
       "user_id                   \n",
       "1049656  496 days 08:43:25\n",
       "1055118 2479 days 06:37:17\n",
       "1056935 1357 days 01:15:12\n",
       "1070023 1580 days 01:22:13\n",
       "1072752 2239 days 20:44:26"
      ]
     },
     "execution_count": 32,
     "metadata": {},
     "output_type": "execute_result"
    }
   ],
   "source": [
    "df = events_df.groupby(by=\"user_id\")[\"timestamp\"].agg([\"min\", \"max\"])\n",
    "df[\"min\"] = df[\"min\"].apply(lambda r: pd.Timestamp(datetime.fromtimestamp(r)))\n",
    "df[\"max\"] = df[\"max\"].apply(lambda r: pd.Timestamp(datetime.fromtimestamp(r)))\n",
    "time_active_df = pd.DataFrame(index=df.index, data={\"time\": df[\"max\"] - df[\"min\"]})\n",
    "time_active_df.head()"
   ]
  },
  {
   "cell_type": "code",
   "execution_count": 33,
   "metadata": {},
   "outputs": [],
   "source": [
    "SQL_CREDENTIALS = \"root:1234\"\n",
    "engine = sqlalchemy.create_engine('mysql+pymysql://' + SQL_CREDENTIALS + '@localhost:3306/music_recommender_db')"
   ]
  },
  {
   "cell_type": "code",
   "execution_count": 34,
   "metadata": {},
   "outputs": [
    {
     "name": "stderr",
     "output_type": "stream",
     "text": [
      "C:\\Users\\pmuellner\\AppData\\Local\\Continuum\\anaconda3\\lib\\site-packages\\pymysql\\cursors.py:170: Warning: (1366, \"Incorrect string value: '\\\\xE4ische...' for column 'VARIABLE_VALUE' at row 1\")\n",
      "  result = self._query(query)\n"
     ]
    }
   ],
   "source": [
    "statement = \"SELECT user_id, FROM_UNIXTIME(registered_unixtime) AS registered_time FROM users WHERE user_id IN \" + str(tuple(set(df.index)))\n",
    "registered_time_df = pd.read_sql(sql=statement, con=engine)"
   ]
  },
  {
   "cell_type": "code",
   "execution_count": 35,
   "metadata": {},
   "outputs": [
    {
     "data": {
      "text/html": [
       "<div>\n",
       "<style scoped>\n",
       "    .dataframe tbody tr th:only-of-type {\n",
       "        vertical-align: middle;\n",
       "    }\n",
       "\n",
       "    .dataframe tbody tr th {\n",
       "        vertical-align: top;\n",
       "    }\n",
       "\n",
       "    .dataframe thead th {\n",
       "        text-align: right;\n",
       "    }\n",
       "</style>\n",
       "<table border=\"1\" class=\"dataframe\">\n",
       "  <thead>\n",
       "    <tr style=\"text-align: right;\">\n",
       "      <th></th>\n",
       "      <th>LEs</th>\n",
       "      <th>cluster</th>\n",
       "    </tr>\n",
       "    <tr>\n",
       "      <th>user_id</th>\n",
       "      <th></th>\n",
       "      <th></th>\n",
       "    </tr>\n",
       "  </thead>\n",
       "  <tbody>\n",
       "    <tr>\n",
       "      <td>1049656</td>\n",
       "      <td>5443</td>\n",
       "      <td>3</td>\n",
       "    </tr>\n",
       "    <tr>\n",
       "      <td>1055118</td>\n",
       "      <td>890</td>\n",
       "      <td>2</td>\n",
       "    </tr>\n",
       "    <tr>\n",
       "      <td>1056935</td>\n",
       "      <td>3077</td>\n",
       "      <td>2</td>\n",
       "    </tr>\n",
       "    <tr>\n",
       "      <td>1070023</td>\n",
       "      <td>969</td>\n",
       "      <td>4</td>\n",
       "    </tr>\n",
       "    <tr>\n",
       "      <td>1072752</td>\n",
       "      <td>1956</td>\n",
       "      <td>1</td>\n",
       "    </tr>\n",
       "  </tbody>\n",
       "</table>\n",
       "</div>"
      ],
      "text/plain": [
       "          LEs  cluster\n",
       "user_id               \n",
       "1049656  5443        3\n",
       "1055118   890        2\n",
       "1056935  3077        2\n",
       "1070023   969        4\n",
       "1072752  1956        1"
      ]
     },
     "execution_count": 35,
     "metadata": {},
     "output_type": "execute_result"
    }
   ],
   "source": [
    "n_events_df.head()"
   ]
  },
  {
   "cell_type": "code",
   "execution_count": 36,
   "metadata": {},
   "outputs": [
    {
     "data": {
      "text/html": [
       "<div>\n",
       "<style scoped>\n",
       "    .dataframe tbody tr th:only-of-type {\n",
       "        vertical-align: middle;\n",
       "    }\n",
       "\n",
       "    .dataframe tbody tr th {\n",
       "        vertical-align: top;\n",
       "    }\n",
       "\n",
       "    .dataframe thead th {\n",
       "        text-align: right;\n",
       "    }\n",
       "</style>\n",
       "<table border=\"1\" class=\"dataframe\">\n",
       "  <thead>\n",
       "    <tr style=\"text-align: right;\">\n",
       "      <th></th>\n",
       "      <th>time</th>\n",
       "      <th>LEs</th>\n",
       "      <th>cluster</th>\n",
       "    </tr>\n",
       "    <tr>\n",
       "      <th>user_id</th>\n",
       "      <th></th>\n",
       "      <th></th>\n",
       "      <th></th>\n",
       "    </tr>\n",
       "  </thead>\n",
       "  <tbody>\n",
       "    <tr>\n",
       "      <td>1049656</td>\n",
       "      <td>496 days 08:43:25</td>\n",
       "      <td>5443</td>\n",
       "      <td>3</td>\n",
       "    </tr>\n",
       "    <tr>\n",
       "      <td>1055118</td>\n",
       "      <td>2479 days 06:37:17</td>\n",
       "      <td>890</td>\n",
       "      <td>2</td>\n",
       "    </tr>\n",
       "    <tr>\n",
       "      <td>1056935</td>\n",
       "      <td>1357 days 01:15:12</td>\n",
       "      <td>3077</td>\n",
       "      <td>2</td>\n",
       "    </tr>\n",
       "    <tr>\n",
       "      <td>1070023</td>\n",
       "      <td>1580 days 01:22:13</td>\n",
       "      <td>969</td>\n",
       "      <td>4</td>\n",
       "    </tr>\n",
       "    <tr>\n",
       "      <td>1072752</td>\n",
       "      <td>2239 days 20:44:26</td>\n",
       "      <td>1956</td>\n",
       "      <td>1</td>\n",
       "    </tr>\n",
       "  </tbody>\n",
       "</table>\n",
       "</div>"
      ],
      "text/plain": [
       "                      time   LEs  cluster\n",
       "user_id                                  \n",
       "1049656  496 days 08:43:25  5443        3\n",
       "1055118 2479 days 06:37:17   890        2\n",
       "1056935 1357 days 01:15:12  3077        2\n",
       "1070023 1580 days 01:22:13   969        4\n",
       "1072752 2239 days 20:44:26  1956        1"
      ]
     },
     "execution_count": 36,
     "metadata": {},
     "output_type": "execute_result"
    }
   ],
   "source": [
    "user_activity_df = time_active_df.merge(n_events_df, left_index=True, right_index=True)\n",
    "user_activity_df.head()"
   ]
  },
  {
   "cell_type": "code",
   "execution_count": 37,
   "metadata": {},
   "outputs": [
    {
     "data": {
      "text/html": [
       "<div>\n",
       "<style scoped>\n",
       "    .dataframe tbody tr th:only-of-type {\n",
       "        vertical-align: middle;\n",
       "    }\n",
       "\n",
       "    .dataframe tbody tr th {\n",
       "        vertical-align: top;\n",
       "    }\n",
       "\n",
       "    .dataframe thead th {\n",
       "        text-align: right;\n",
       "    }\n",
       "</style>\n",
       "<table border=\"1\" class=\"dataframe\">\n",
       "  <thead>\n",
       "    <tr style=\"text-align: right;\">\n",
       "      <th></th>\n",
       "      <th>time</th>\n",
       "      <th>LEs</th>\n",
       "      <th>cluster</th>\n",
       "      <th>LEs_per_week</th>\n",
       "    </tr>\n",
       "    <tr>\n",
       "      <th>user_id</th>\n",
       "      <th></th>\n",
       "      <th></th>\n",
       "      <th></th>\n",
       "      <th></th>\n",
       "    </tr>\n",
       "  </thead>\n",
       "  <tbody>\n",
       "    <tr>\n",
       "      <td>1049656</td>\n",
       "      <td>496 days 08:43:25</td>\n",
       "      <td>5443</td>\n",
       "      <td>3</td>\n",
       "      <td>76.816532</td>\n",
       "    </tr>\n",
       "    <tr>\n",
       "      <td>1055118</td>\n",
       "      <td>2479 days 06:37:17</td>\n",
       "      <td>890</td>\n",
       "      <td>2</td>\n",
       "      <td>2.513110</td>\n",
       "    </tr>\n",
       "    <tr>\n",
       "      <td>1056935</td>\n",
       "      <td>1357 days 01:15:12</td>\n",
       "      <td>3077</td>\n",
       "      <td>2</td>\n",
       "      <td>15.872513</td>\n",
       "    </tr>\n",
       "    <tr>\n",
       "      <td>1070023</td>\n",
       "      <td>1580 days 01:22:13</td>\n",
       "      <td>969</td>\n",
       "      <td>4</td>\n",
       "      <td>4.293038</td>\n",
       "    </tr>\n",
       "    <tr>\n",
       "      <td>1072752</td>\n",
       "      <td>2239 days 20:44:26</td>\n",
       "      <td>1956</td>\n",
       "      <td>1</td>\n",
       "      <td>6.115230</td>\n",
       "    </tr>\n",
       "  </tbody>\n",
       "</table>\n",
       "</div>"
      ],
      "text/plain": [
       "                      time   LEs  cluster  LEs_per_week\n",
       "user_id                                                \n",
       "1049656  496 days 08:43:25  5443        3     76.816532\n",
       "1055118 2479 days 06:37:17   890        2      2.513110\n",
       "1056935 1357 days 01:15:12  3077        2     15.872513\n",
       "1070023 1580 days 01:22:13   969        4      4.293038\n",
       "1072752 2239 days 20:44:26  1956        1      6.115230"
      ]
     },
     "execution_count": 37,
     "metadata": {},
     "output_type": "execute_result"
    }
   ],
   "source": [
    "user_activity_df[\"LEs_per_week\"] = user_activity_df[\"LEs\"] / (user_activity_df[\"time\"].dt.days / 7)\n",
    "user_activity_df.head()"
   ]
  },
  {
   "cell_type": "code",
   "execution_count": 38,
   "metadata": {},
   "outputs": [],
   "source": [
    "user_activity_df.replace([-np.inf, np.inf], np.nan, inplace=True)\n",
    "user_activity_df.dropna(inplace=True)"
   ]
  },
  {
   "cell_type": "code",
   "execution_count": 46,
   "metadata": {},
   "outputs": [
    {
     "data": {
      "text/plain": [
       "<matplotlib.axes._subplots.AxesSubplot at 0x1ecb663d6a0>"
      ]
     },
     "execution_count": 46,
     "metadata": {},
     "output_type": "execute_result"
    }
   ],
   "source": [
    "%matplotlib qt\n",
    "user_activity_df[[\"cluster\", \"LEs_per_week\"]].boxplot(by=\"cluster\")"
   ]
  },
  {
   "cell_type": "code",
   "execution_count": 42,
   "metadata": {},
   "outputs": [
    {
     "data": {
      "text/plain": [
       "1"
      ]
     },
     "execution_count": 42,
     "metadata": {},
     "output_type": "execute_result"
    }
   ],
   "source": [
    "(user_activity_df[\"LEs_per_week\"] > 600).sum()"
   ]
  },
  {
   "cell_type": "code",
   "execution_count": 43,
   "metadata": {},
   "outputs": [
    {
     "data": {
      "text/plain": [
       "cluster\n",
       "1    18.013751\n",
       "2    25.401069\n",
       "3    17.803559\n",
       "4    24.428883\n",
       "Name: LEs_per_week, dtype: float64"
      ]
     },
     "execution_count": 43,
     "metadata": {},
     "output_type": "execute_result"
    }
   ],
   "source": [
    "user_activity_df[user_activity_df[\"LEs_per_week\"] < 600].groupby(by=\"cluster\")[\"LEs_per_week\"].mean()"
   ]
  },
  {
   "cell_type": "code",
   "execution_count": 44,
   "metadata": {},
   "outputs": [
    {
     "data": {
      "text/plain": [
       "cluster\n",
       "1    20.210532\n",
       "2    30.746741\n",
       "3    20.829406\n",
       "4    31.614987\n",
       "Name: LEs_per_week, dtype: float64"
      ]
     },
     "execution_count": 44,
     "metadata": {},
     "output_type": "execute_result"
    }
   ],
   "source": [
    "user_activity_df[user_activity_df[\"LEs_per_week\"] < 600].groupby(by=\"cluster\")[\"LEs_per_week\"].std()"
   ]
  },
  {
   "cell_type": "code",
   "execution_count": null,
   "metadata": {},
   "outputs": [],
   "source": [
    "user_activity_df.groupby(by=\"cluster\")[\"LEs_per_week\"].mean()"
   ]
  },
  {
   "cell_type": "code",
   "execution_count": null,
   "metadata": {},
   "outputs": [],
   "source": [
    "user_activity_df.groupby(by=\"cluster\")[\"LEs_per_week\"].std()"
   ]
  },
  {
   "cell_type": "code",
   "execution_count": null,
   "metadata": {},
   "outputs": [],
   "source": [
    "user_activity_df[\"days_active\"] = user_activity_df[\"time\"].apply(lambda r: r.days)"
   ]
  },
  {
   "cell_type": "code",
   "execution_count": null,
   "metadata": {},
   "outputs": [],
   "source": [
    "user_activity_df.head()"
   ]
  },
  {
   "cell_type": "code",
   "execution_count": null,
   "metadata": {},
   "outputs": [],
   "source": [
    "user_activity_df.groupby(by=\"cluster\")[\"days_active\"].mean()"
   ]
  },
  {
   "cell_type": "code",
   "execution_count": null,
   "metadata": {},
   "outputs": [],
   "source": []
  },
  {
   "cell_type": "code",
   "execution_count": null,
   "metadata": {},
   "outputs": [],
   "source": []
  },
  {
   "cell_type": "code",
   "execution_count": null,
   "metadata": {},
   "outputs": [],
   "source": [
    "# genres per track"
   ]
  },
  {
   "cell_type": "code",
   "execution_count": null,
   "metadata": {},
   "outputs": [],
   "source": [
    "listened_tracks_per_cluster_df = user_track_df.merge(track_genres_df, left_on=\"track_id\", right_index=True).merge(classification_df, left_index=True, right_on=\"user_id\")\n",
    "listened_tracks_per_cluster_df[\"genres\"] = listened_tracks_per_cluster_df[\"genres\"].apply(lambda r: ast.literal_eval(r))\n",
    "listened_tracks_per_cluster_df.head()"
   ]
  },
  {
   "cell_type": "code",
   "execution_count": null,
   "metadata": {},
   "outputs": [],
   "source": [
    "n_genres_per_cluster_df = listened_tracks_per_cluster_df.groupby(by=[\"cluster\", \"track_id\"])[\"genres\"].sum().apply(set).apply(len)\n",
    "n_genres_per_cluster_df.head()"
   ]
  },
  {
   "cell_type": "code",
   "execution_count": null,
   "metadata": {},
   "outputs": [],
   "source": [
    "n_genres_per_cluster_df.groupby(by=\"cluster\").mean()"
   ]
  },
  {
   "cell_type": "code",
   "execution_count": null,
   "metadata": {},
   "outputs": [],
   "source": [
    "n_genres_per_cluster_df.groupby(by=\"cluster\").std()"
   ]
  },
  {
   "cell_type": "code",
   "execution_count": null,
   "metadata": {},
   "outputs": [],
   "source": [
    "len(listened_tracks_per_cluster_df)"
   ]
  },
  {
   "cell_type": "code",
   "execution_count": null,
   "metadata": {},
   "outputs": [],
   "source": []
  },
  {
   "cell_type": "code",
   "execution_count": null,
   "metadata": {},
   "outputs": [],
   "source": []
  },
  {
   "cell_type": "code",
   "execution_count": null,
   "metadata": {},
   "outputs": [],
   "source": []
  },
  {
   "cell_type": "code",
   "execution_count": null,
   "metadata": {},
   "outputs": [],
   "source": []
  },
  {
   "cell_type": "code",
   "execution_count": null,
   "metadata": {},
   "outputs": [],
   "source": []
  },
  {
   "cell_type": "code",
   "execution_count": null,
   "metadata": {},
   "outputs": [],
   "source": []
  }
 ],
 "metadata": {
  "kernelspec": {
   "display_name": "Python 3",
   "language": "python",
   "name": "python3"
  },
  "language_info": {
   "codemirror_mode": {
    "name": "ipython",
    "version": 3
   },
   "file_extension": ".py",
   "mimetype": "text/x-python",
   "name": "python",
   "nbconvert_exporter": "python",
   "pygments_lexer": "ipython3",
   "version": "3.7.3"
  }
 },
 "nbformat": 4,
 "nbformat_minor": 2
}
