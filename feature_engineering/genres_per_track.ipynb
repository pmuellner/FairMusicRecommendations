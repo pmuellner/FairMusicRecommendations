{
 "cells": [
  {
   "cell_type": "code",
   "execution_count": 11,
   "metadata": {},
   "outputs": [],
   "source": [
    "import pandas as pd\n",
    "import numpy as np\n",
    "\n",
    "COL_SEPARATOR = \"_123456789987654321_\""
   ]
  },
  {
   "cell_type": "code",
   "execution_count": 16,
   "metadata": {},
   "outputs": [
    {
     "name": "stderr",
     "output_type": "stream",
     "text": [
      "C:\\Users\\pmuellner\\AppData\\Local\\Continuum\\anaconda3\\lib\\site-packages\\ipykernel_launcher.py:1: ParserWarning: Falling back to the 'python' engine because the 'c' engine does not support regex separators (separators > 1 char and different from '\\s+' are interpreted as regex); you can avoid this warning by specifying engine='python'.\n",
      "  \"\"\"Entry point for launching an IPython kernel.\n",
      "C:\\Users\\pmuellner\\AppData\\Local\\Continuum\\anaconda3\\lib\\site-packages\\ipykernel_launcher.py:2: ParserWarning: Falling back to the 'python' engine because the 'c' engine does not support regex separators (separators > 1 char and different from '\\s+' are interpreted as regex); you can avoid this warning by specifying engine='python'.\n",
      "  \n"
     ]
    }
   ],
   "source": [
    "track_genres_df = pd.read_csv(\"data/artist_track_genres_prepared.csv\", sep=COL_SEPARATOR, header=None)\n",
    "artist_genres_df = pd.read_csv(\"data/artist_genres_prepared.csv\", sep=COL_SEPARATOR, header=None)"
   ]
  },
  {
   "cell_type": "code",
   "execution_count": 17,
   "metadata": {},
   "outputs": [
    {
     "data": {
      "text/html": [
       "<div>\n",
       "<style scoped>\n",
       "    .dataframe tbody tr th:only-of-type {\n",
       "        vertical-align: middle;\n",
       "    }\n",
       "\n",
       "    .dataframe tbody tr th {\n",
       "        vertical-align: top;\n",
       "    }\n",
       "\n",
       "    .dataframe thead th {\n",
       "        text-align: right;\n",
       "    }\n",
       "</style>\n",
       "<table border=\"1\" class=\"dataframe\">\n",
       "  <thead>\n",
       "    <tr style=\"text-align: right;\">\n",
       "      <th></th>\n",
       "      <th>0</th>\n",
       "      <th>1</th>\n",
       "      <th>2</th>\n",
       "      <th>3</th>\n",
       "      <th>4</th>\n",
       "      <th>5</th>\n",
       "    </tr>\n",
       "  </thead>\n",
       "  <tbody>\n",
       "    <tr>\n",
       "      <th>0</th>\n",
       "      <td>11393952</td>\n",
       "      <td>Somebody That I Used to Know</td>\n",
       "      <td>3085</td>\n",
       "      <td>Gotye</td>\n",
       "      <td>185187</td>\n",
       "      <td>electronic\\tpop\\tindiepop\\trock\\tsingersongwri...</td>\n",
       "    </tr>\n",
       "    <tr>\n",
       "      <th>1</th>\n",
       "      <td>4868</td>\n",
       "      <td>Rolling in the Deep</td>\n",
       "      <td>504</td>\n",
       "      <td>Adele</td>\n",
       "      <td>171202</td>\n",
       "      <td>soul\\tpop\\tsingersongwriter\\tblues\\tjazz\\tindi...</td>\n",
       "    </tr>\n",
       "    <tr>\n",
       "      <th>2</th>\n",
       "      <td>2900</td>\n",
       "      <td>Intro</td>\n",
       "      <td>32</td>\n",
       "      <td>The xx</td>\n",
       "      <td>130971</td>\n",
       "      <td>electronic\\tindiepop\\tshoegaze\\tdreampop\\tpost...</td>\n",
       "    </tr>\n",
       "    <tr>\n",
       "      <th>3</th>\n",
       "      <td>2498</td>\n",
       "      <td>Blue Jeans</td>\n",
       "      <td>402</td>\n",
       "      <td>Lana Del Rey</td>\n",
       "      <td>130912</td>\n",
       "      <td>pop\\tsoul\\tindiepop\\tchamberpop\\ttriphop\\tdrea...</td>\n",
       "    </tr>\n",
       "    <tr>\n",
       "      <th>4</th>\n",
       "      <td>26142</td>\n",
       "      <td>We Are Young (feat. Janelle MonÃ¡e)</td>\n",
       "      <td>3151</td>\n",
       "      <td>fun.</td>\n",
       "      <td>119257</td>\n",
       "      <td>pop\\tindiepop\\trock\\talternativerock\\talternat...</td>\n",
       "    </tr>\n",
       "  </tbody>\n",
       "</table>\n",
       "</div>"
      ],
      "text/plain": [
       "          0                                    1     2             3       4  \\\n",
       "0  11393952         Somebody That I Used to Know  3085         Gotye  185187   \n",
       "1      4868                  Rolling in the Deep   504         Adele  171202   \n",
       "2      2900                                Intro    32        The xx  130971   \n",
       "3      2498                           Blue Jeans   402  Lana Del Rey  130912   \n",
       "4     26142  We Are Young (feat. Janelle MonÃ¡e)  3151          fun.  119257   \n",
       "\n",
       "                                                   5  \n",
       "0  electronic\\tpop\\tindiepop\\trock\\tsingersongwri...  \n",
       "1  soul\\tpop\\tsingersongwriter\\tblues\\tjazz\\tindi...  \n",
       "2  electronic\\tindiepop\\tshoegaze\\tdreampop\\tpost...  \n",
       "3  pop\\tsoul\\tindiepop\\tchamberpop\\ttriphop\\tdrea...  \n",
       "4  pop\\tindiepop\\trock\\talternativerock\\talternat...  "
      ]
     },
     "execution_count": 17,
     "metadata": {},
     "output_type": "execute_result"
    }
   ],
   "source": [
    "track_genres_df.head()"
   ]
  },
  {
   "cell_type": "code",
   "execution_count": null,
   "metadata": {},
   "outputs": [],
   "source": []
  },
  {
   "cell_type": "code",
   "execution_count": null,
   "metadata": {},
   "outputs": [],
   "source": []
  },
  {
   "cell_type": "code",
   "execution_count": null,
   "metadata": {},
   "outputs": [],
   "source": []
  },
  {
   "cell_type": "code",
   "execution_count": null,
   "metadata": {},
   "outputs": [],
   "source": []
  },
  {
   "cell_type": "code",
   "execution_count": null,
   "metadata": {},
   "outputs": [],
   "source": []
  },
  {
   "cell_type": "code",
   "execution_count": null,
   "metadata": {},
   "outputs": [],
   "source": []
  },
  {
   "cell_type": "code",
   "execution_count": null,
   "metadata": {},
   "outputs": [],
   "source": []
  },
  {
   "cell_type": "code",
   "execution_count": null,
   "metadata": {},
   "outputs": [],
   "source": []
  },
  {
   "cell_type": "code",
   "execution_count": null,
   "metadata": {},
   "outputs": [],
   "source": []
  },
  {
   "cell_type": "code",
   "execution_count": null,
   "metadata": {},
   "outputs": [],
   "source": []
  },
  {
   "cell_type": "code",
   "execution_count": null,
   "metadata": {},
   "outputs": [],
   "source": []
  },
  {
   "cell_type": "code",
   "execution_count": null,
   "metadata": {},
   "outputs": [],
   "source": []
  },
  {
   "cell_type": "code",
   "execution_count": null,
   "metadata": {},
   "outputs": [],
   "source": []
  },
  {
   "cell_type": "code",
   "execution_count": null,
   "metadata": {},
   "outputs": [],
   "source": []
  }
 ],
 "metadata": {
  "kernelspec": {
   "display_name": "Python 3",
   "language": "python",
   "name": "python3"
  },
  "language_info": {
   "codemirror_mode": {
    "name": "ipython",
    "version": 3
   },
   "file_extension": ".py",
   "mimetype": "text/x-python",
   "name": "python",
   "nbconvert_exporter": "python",
   "pygments_lexer": "ipython3",
   "version": "3.7.3"
  }
 },
 "nbformat": 4,
 "nbformat_minor": 2
}
