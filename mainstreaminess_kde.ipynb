{
 "cells": [
  {
   "cell_type": "code",
   "execution_count": 7,
   "metadata": {},
   "outputs": [],
   "source": [
    "import pandas as pd\n",
    "import numpy as np\n",
    "import matplotlib.pyplot as plt\n",
    "from scipy import stats\n",
    "plt.style.use(\"default\")\n",
    "SMALL_SIZE = 15\n",
    "MEDIUM_SIZE = 18\n",
    "BIGGER_SIZE = 21\n",
    "\n",
    "\"\"\"\n",
    "plt.rc('font', size=SMALL_SIZE)  # controls default text sizes\n",
    "plt.rc('axes', titlesize=MEDIUM_SIZE)  # fontsize of the axes title\n",
    "plt.rc('axes', labelsize=MEDIUM_SIZE)  # fontsize of the x and y labels\n",
    "plt.rc('xtick', labelsize=MEDIUM_SIZE)  # fontsize of the tick labels\n",
    "plt.rc('ytick', labelsize=MEDIUM_SIZE)  # fontsize of the tick labels\n",
    "plt.rc('legend', fontsize=SMALL_SIZE)  # legend fontsize\n",
    "plt.rc('figure', titlesize=BIGGER_SIZE)  # fontsize of the figure title\n",
    "\"\"\""
   ]
  },
  {
   "cell_type": "code",
   "execution_count": 2,
   "metadata": {},
   "outputs": [
    {
     "data": {
      "text/html": [
       "<div>\n",
       "<style scoped>\n",
       "    .dataframe tbody tr th:only-of-type {\n",
       "        vertical-align: middle;\n",
       "    }\n",
       "\n",
       "    .dataframe tbody tr th {\n",
       "        vertical-align: top;\n",
       "    }\n",
       "\n",
       "    .dataframe thead th {\n",
       "        text-align: right;\n",
       "    }\n",
       "</style>\n",
       "<table border=\"1\" class=\"dataframe\">\n",
       "  <thead>\n",
       "    <tr style=\"text-align: right;\">\n",
       "      <th></th>\n",
       "      <th>x</th>\n",
       "      <th>y</th>\n",
       "    </tr>\n",
       "  </thead>\n",
       "  <tbody>\n",
       "    <tr>\n",
       "      <td>0</td>\n",
       "      <td>-0.313671</td>\n",
       "      <td>0.000028</td>\n",
       "    </tr>\n",
       "    <tr>\n",
       "      <td>1</td>\n",
       "      <td>-0.305909</td>\n",
       "      <td>0.000130</td>\n",
       "    </tr>\n",
       "    <tr>\n",
       "      <td>2</td>\n",
       "      <td>-0.298147</td>\n",
       "      <td>0.000488</td>\n",
       "    </tr>\n",
       "    <tr>\n",
       "      <td>3</td>\n",
       "      <td>-0.290384</td>\n",
       "      <td>0.001331</td>\n",
       "    </tr>\n",
       "    <tr>\n",
       "      <td>4</td>\n",
       "      <td>-0.282622</td>\n",
       "      <td>0.002717</td>\n",
       "    </tr>\n",
       "  </tbody>\n",
       "</table>\n",
       "</div>"
      ],
      "text/plain": [
       "          x         y\n",
       "0 -0.313671  0.000028\n",
       "1 -0.305909  0.000130\n",
       "2 -0.298147  0.000488\n",
       "3 -0.290384  0.001331\n",
       "4 -0.282622  0.002717"
      ]
     },
     "execution_count": 2,
     "metadata": {},
     "output_type": "execute_result"
    }
   ],
   "source": [
    "kde_df = pd.read_csv(\"mainstreaminess_kde.csv\", sep=\",\", header=None).T\n",
    "kde_df.columns = [\"x\", \"y\"]\n",
    "kde_df.head()"
   ]
  },
  {
   "cell_type": "code",
   "execution_count": 3,
   "metadata": {},
   "outputs": [],
   "source": [
    "%matplotlib qt\n",
    "#%matplotlib inline \n",
    "plt.plot(kde_df[\"x\"], kde_df[\"y\"] / len(kde_df), label=\"\")\n",
    "plt.axvline(x=0.08, linestyle=\"--\", c=\"black\", label=\"Upper bound (0.08)\")\n",
    "plt.axhline(y=np.mean(kde_df[\"y\"]), linestyle=\"-\", c=\"green\", label=\"Mean\", alpha=0.5)\n",
    "plt.legend()\n",
    "plt.show()"
   ]
  },
  {
   "cell_type": "code",
   "execution_count": 4,
   "metadata": {
    "scrolled": true
   },
   "outputs": [
    {
     "data": {
      "text/plain": [
       "array([0.00776232, 0.00776232, 0.00776232, 0.00776232, 0.00776232,\n",
       "       0.00776232, 0.00776232, 0.00776232, 0.00776232, 0.00776232,\n",
       "       0.00776232, 0.00776232, 0.00776232, 0.00776232, 0.00776232,\n",
       "       0.00776232, 0.00776232, 0.00776232, 0.00776232, 0.00776232,\n",
       "       0.00776232, 0.00776232, 0.00776232, 0.00776232, 0.00776232,\n",
       "       0.00776232, 0.00776232, 0.00776232, 0.00776232, 0.00776232,\n",
       "       0.00776232, 0.00776232, 0.00776232, 0.00776232, 0.00776232,\n",
       "       0.00776232, 0.00776232, 0.00776232, 0.00776232, 0.00776232,\n",
       "       0.00776232, 0.00776232, 0.00776232, 0.00776232, 0.00776232,\n",
       "       0.00776232, 0.00776232, 0.00776232, 0.00776232, 0.00776232,\n",
       "       0.00776232, 0.00776232, 0.00776232, 0.00776232, 0.00776232,\n",
       "       0.00776232, 0.00776232, 0.00776232, 0.00776232, 0.00776232,\n",
       "       0.00776232, 0.00776232, 0.00776232, 0.00776232, 0.00776232,\n",
       "       0.00776232, 0.00776232, 0.00776232, 0.00776232, 0.00776232,\n",
       "       0.00776232, 0.00776232, 0.00776232, 0.00776232, 0.00776232,\n",
       "       0.00776232, 0.00776232, 0.00776232, 0.00776232, 0.00776232,\n",
       "       0.00776232, 0.00776232, 0.00776232, 0.00776232, 0.00776232,\n",
       "       0.00776232, 0.00776232, 0.00776232, 0.00776232, 0.00776232,\n",
       "       0.00776232, 0.00776232, 0.00776232, 0.00776232, 0.00776232,\n",
       "       0.00776232, 0.00776232, 0.00776232, 0.00776232, 0.00776232,\n",
       "       0.00776232, 0.00776232, 0.00776232, 0.00776232, 0.00776232,\n",
       "       0.00776232, 0.00776232, 0.00776232, 0.00776232, 0.00776232,\n",
       "       0.00776232, 0.00776232, 0.00776232, 0.00776232, 0.00776232,\n",
       "       0.00776232, 0.00776232, 0.00776232, 0.00776232, 0.00776232,\n",
       "       0.00776232, 0.00776232, 0.00776232, 0.00776232, 0.00776232,\n",
       "       0.00776232, 0.00776232])"
      ]
     },
     "execution_count": 4,
     "metadata": {},
     "output_type": "execute_result"
    }
   ],
   "source": [
    "# check if datapoints are equispaced\n",
    "np.diff(kde_df[\"x\"])"
   ]
  },
  {
   "cell_type": "code",
   "execution_count": 3,
   "metadata": {},
   "outputs": [
    {
     "data": {
      "text/plain": [
       "<matplotlib.lines.Line2D at 0x28fe7f8b710>"
      ]
     },
     "execution_count": 3,
     "metadata": {},
     "output_type": "execute_result"
    },
    {
     "data": {
      "image/png": "[encoded data removed]",
      "text/plain": [
       "<Figure size 432x288 with 1 Axes>"
      ]
     },
     "metadata": {
      "needs_background": "light"
     },
     "output_type": "display_data"
    }
   ],
   "source": [
    "cumsum = np.cumsum(kde_df[\"y\"])\n",
    "plt.plot(kde_df[\"x\"], cumsum)\n",
    "plt.axvline(x=0.08, linestyle=\"--\", c=\"black\", label=\"Upper bound (0.08)\")"
   ]
  },
  {
   "cell_type": "code",
   "execution_count": 38,
   "metadata": {},
   "outputs": [
    {
     "data": {
      "text/plain": [
       "0.050746411112403925"
      ]
     },
     "execution_count": 38,
     "metadata": {},
     "output_type": "execute_result"
    }
   ],
   "source": [
    "np.percentile(cumsum, 10)"
   ]
  },
  {
   "cell_type": "code",
   "execution_count": 4,
   "metadata": {},
   "outputs": [
    {
     "name": "stderr",
     "output_type": "stream",
     "text": [
      "C:\\Users\\pmuellner\\AppData\\Local\\Continuum\\anaconda3\\lib\\site-packages\\numpy\\core\\fromnumeric.py:56: FutureWarning: \n",
      "The current behaviour of 'Series.argmin' is deprecated, use 'idxmin'\n",
      "instead.\n",
      "The behavior of 'argmin' will be corrected to return the positional\n",
      "minimum in the future. For now, use 'series.values.argmin' or\n",
      "'np.argmin(np.array(values))' to get the position of the minimum\n",
      "row.\n",
      "  return getattr(obj, method)(*args, **kwds)\n"
     ]
    },
    {
     "data": {
      "text/plain": [
       "x    0.082207\n",
       "y    2.193577\n",
       "Name: 51, dtype: float64"
      ]
     },
     "execution_count": 4,
     "metadata": {},
     "output_type": "execute_result"
    }
   ],
   "source": [
    "best_idx = np.argmin(np.abs(kde_df[\"x\"] - 0.08))\n",
    "kde_df.iloc[best_idx]"
   ]
  },
  {
   "cell_type": "code",
   "execution_count": 5,
   "metadata": {},
   "outputs": [],
   "source": [
    "lower_sum = np.sum(kde_df.iloc[:best_idx][\"y\"])"
   ]
  },
  {
   "cell_type": "code",
   "execution_count": 6,
   "metadata": {},
   "outputs": [],
   "source": [
    "upper_sum = np.sum(kde_df.iloc[best_idx:][\"y\"])"
   ]
  },
  {
   "cell_type": "code",
   "execution_count": 7,
   "metadata": {},
   "outputs": [],
   "source": [
    "total_sum = lower_sum + upper_sum"
   ]
  },
  {
   "cell_type": "code",
   "execution_count": 8,
   "metadata": {},
   "outputs": [
    {
     "data": {
      "text/plain": [
       "(0.11946542795902419, 0.8805345720409758)"
      ]
     },
     "execution_count": 8,
     "metadata": {},
     "output_type": "execute_result"
    }
   ],
   "source": [
    "lower_sum / total_sum, upper_sum / total_sum"
   ]
  },
  {
   "cell_type": "code",
   "execution_count": 7,
   "metadata": {},
   "outputs": [
    {
     "data": {
      "text/plain": [
       "0.0702537722849902"
      ]
     },
     "execution_count": 7,
     "metadata": {},
     "output_type": "execute_result"
    }
   ],
   "source": [
    "cumsum = np.cumsum(kde_df[\"y\"])\n",
    "np.percentile(cumsum, 11.8)\n"
   ]
  },
  {
   "cell_type": "code",
   "execution_count": 4,
   "metadata": {},
   "outputs": [
    {
     "name": "stdout",
     "output_type": "stream",
     "text": [
      "0.29443786528380334\n",
      "-0.2949752540474424\n"
     ]
    },
    {
     "data": {
      "text/plain": [
       "x    0.268503\n",
       "y    2.726318\n",
       "Name: 75, dtype: float64"
      ]
     },
     "execution_count": 4,
     "metadata": {},
     "output_type": "execute_result"
    }
   ],
   "source": [
    "grad = np.gradient(kde_df[\"y\"])\n",
    "print(np.max(grad))\n",
    "print(np.min(grad))\n",
    "idx = np.argmax(grad)\n",
    "kde_df.iloc[idx]\n",
    "kde_df.iloc[np.argmin(grad)]"
   ]
  },
  {
   "cell_type": "code",
   "execution_count": 72,
   "metadata": {},
   "outputs": [
    {
     "data": {
      "text/plain": [
       "Text(0.5, 0, 'Mainstreaminess')"
      ]
     },
     "execution_count": 72,
     "metadata": {},
     "output_type": "execute_result"
    }
   ],
   "source": [
    "fig, axes = plt.subplots(3, sharex=True)\n",
    "axes[0].plot(kde_df[\"x\"], kde_df[\"y\"], label=\"\")\n",
    "axes[0].axvline(x=0.08, linestyle=\"--\", c=\"black\", label=\"Upper bound (0.08)\")\n",
    "axes[0].set_ylabel(\"KDE\")\n",
    "axes[0].legend(loc=\"upper right\")\n",
    "axes[1].plot(kde_df[\"x\"], np.cumsum(kde_df[\"y\"]), label=\"\")\n",
    "perc_10 = np.percentile(cumsum, 10)\n",
    "axes[1].axvline(x=0.06, linestyle=\"--\", c=\"black\", label=\"10th percentile (0.06)\")\n",
    "axes[1].set_ylabel(\"CDF\")\n",
    "axes[1].legend(loc=\"upper right\")\n",
    "axes[2].plot(kde_df[\"x\"], np.gradient(kde_df[\"y\"]), label=\"\")\n",
    "axes[2].axvline(x=0.097732, linestyle=\"--\", c=\"black\", label=\"max. gradient (0.097732)\")\n",
    "axes[2].axvline(x=0.268503, linestyle=\"--\", c=\"grey\", label=\"min. gradient (0.268503)\")\n",
    "axes[2].set_ylabel(\"approx. Derivative\")\n",
    "axes[2].legend(loc=\"upper right\")\n",
    "\n",
    "plt.xlabel(\"Mainstreaminess\")"
   ]
  },
  {
   "cell_type": "code",
   "execution_count": 5,
   "metadata": {},
   "outputs": [
    {
     "data": {
      "text/plain": [
       "[<matplotlib.lines.Line2D at 0x28fe82dc710>]"
      ]
     },
     "execution_count": 5,
     "metadata": {},
     "output_type": "execute_result"
    },
    {
     "data": {
      "image/png": "[encoded data removed]",
      "text/plain": [
       "<Figure size 432x288 with 1 Axes>"
      ]
     },
     "metadata": {
      "needs_background": "light"
     },
     "output_type": "display_data"
    }
   ],
   "source": [
    "grad = np.gradient(kde_df[\"y\"])\n",
    "plt.plot(kde_df[\"x\"], grad)"
   ]
  },
  {
   "cell_type": "code",
   "execution_count": 8,
   "metadata": {},
   "outputs": [
    {
     "data": {
      "text/plain": [
       "0.09773175445817649"
      ]
     },
     "execution_count": 8,
     "metadata": {},
     "output_type": "execute_result"
    }
   ],
   "source": [
    "kde_df[\"x\"][np.argmax(grad)]"
   ]
  },
  {
   "cell_type": "code",
   "execution_count": 9,
   "metadata": {},
   "outputs": [
    {
     "data": {
      "text/plain": [
       "0.2685027746410448"
      ]
     },
     "execution_count": 9,
     "metadata": {},
     "output_type": "execute_result"
    }
   ],
   "source": [
    "kde_df[\"x\"][np.argmin(grad)]"
   ]
  },
  {
   "cell_type": "code",
   "execution_count": 9,
   "metadata": {},
   "outputs": [
    {
     "data": {
      "text/plain": [
       "22.77508475770932"
      ]
     },
     "execution_count": 9,
     "metadata": {},
     "output_type": "execute_result"
    }
   ],
   "source": [
    "cumsum[np.argmax(grad)]"
   ]
  },
  {
   "cell_type": "code",
   "execution_count": 10,
   "metadata": {},
   "outputs": [
    {
     "data": {
      "text/plain": [
       "14.0625"
      ]
     },
     "execution_count": 10,
     "metadata": {},
     "output_type": "execute_result"
    }
   ],
   "source": [
    "stats.percentileofscore(cumsum, kde_df[\"x\"][np.argmax(grad)])"
   ]
  },
  {
   "cell_type": "code",
   "execution_count": 8,
   "metadata": {},
   "outputs": [
    {
     "data": {
      "text/plain": [
       "<matplotlib.legend.Legend at 0x28fed3d9940>"
      ]
     },
     "execution_count": 8,
     "metadata": {},
     "output_type": "execute_result"
    }
   ],
   "source": [
    "%matplotlib qt\n",
    "\n",
    "fig, axes = plt.subplots(2, 1, sharex=True)\n",
    "axes[0].plot(kde_df[\"x\"], kde_df[\"y\"] / len(kde_df), label=\"\")\n",
    "axes[0].set_ylabel(\"Density\")\n",
    "axes[0].grid(False)\n",
    "\n",
    "axes[1].plot(kde_df[\"x\"], grad)\n",
    "axes[1].axhline(y=0, linestyle=\"--\", c=\"grey\")\n",
    "axes[1].axvline(x=0.097732, linestyle=\"--\", c=\"black\", label=\"max. gradient (0.097732)\")\n",
    "#axes[1].axvline(x=0.268503, linestyle=\"dotted\", c=\"black\", label=\"min. gradient (0.268503)\")\n",
    "axes[1].set_ylabel(\"Gradient\")\n",
    "axes[1].grid(False)\n",
    "plt.xlabel(\"Mainstreaminess\")\n",
    "plt.legend(loc=\"upper right\")"
   ]
  },
  {
   "cell_type": "code",
   "execution_count": null,
   "metadata": {},
   "outputs": [],
   "source": []
  },
  {
   "cell_type": "code",
   "execution_count": null,
   "metadata": {},
   "outputs": [],
   "source": []
  },
  {
   "cell_type": "code",
   "execution_count": 37,
   "metadata": {},
   "outputs": [
    {
     "data": {
      "text/plain": [
       "0     -0.313671\n",
       "1     -0.305909\n",
       "2     -0.298147\n",
       "3     -0.290384\n",
       "4     -0.282622\n",
       "         ...   \n",
       "123    0.641094\n",
       "124    0.648856\n",
       "125    0.656619\n",
       "126    0.664381\n",
       "127    0.672143\n",
       "Name: x, Length: 128, dtype: float64"
      ]
     },
     "execution_count": 37,
     "metadata": {},
     "output_type": "execute_result"
    }
   ],
   "source": [
    "kde_df[\"x\"]"
   ]
  },
  {
   "cell_type": "code",
   "execution_count": 38,
   "metadata": {},
   "outputs": [
    {
     "data": {
      "text/plain": [
       "0      0.000028\n",
       "1      0.000130\n",
       "2      0.000488\n",
       "3      0.001331\n",
       "4      0.002717\n",
       "         ...   \n",
       "123    0.001960\n",
       "124    0.001115\n",
       "125    0.000443\n",
       "126    0.000123\n",
       "127    0.000027\n",
       "Name: y, Length: 128, dtype: float64"
      ]
     },
     "execution_count": 38,
     "metadata": {},
     "output_type": "execute_result"
    }
   ],
   "source": [
    "kde_df[\"y\"]"
   ]
  },
  {
   "cell_type": "code",
   "execution_count": 56,
   "metadata": {},
   "outputs": [
    {
     "data": {
      "text/plain": [
       "<matplotlib.lines.Line2D at 0x232388d8f28>"
      ]
     },
     "execution_count": 56,
     "metadata": {},
     "output_type": "execute_result"
    }
   ],
   "source": [
    "plt.plot(kde_df[\"y\"], label=\"PDF\")\n",
    "plt.axvline(x=np.mean(np.cumsum(kde_df[\"y\"])), label=\"Mean\")\n",
    "plt.axvline(x=np.median(np.cumsum(kde_df[\"y\"])), label=\"Median\")"
   ]
  },
  {
   "cell_type": "code",
   "execution_count": 71,
   "metadata": {},
   "outputs": [
    {
     "data": {
      "text/plain": [
       "<matplotlib.legend.Legend at 0x232433c7f60>"
      ]
     },
     "execution_count": 71,
     "metadata": {},
     "output_type": "execute_result"
    }
   ],
   "source": [
    "normms = kde_df[kde_df[\"x\"] > 0.097732]\n",
    "plt.plot(normms[\"x\"], normms[\"y\"], label=\"PDF\")\n",
    "\n",
    "mean = np.mean(normms[\"x\"] * normms[\"y\"])\n",
    "plt.axvline(x=mean, linestyle=\"--\", color=\"black\", label=\"Mean %f\" % (mean))\n",
    "plt.legend()"
   ]
  },
  {
   "cell_type": "code",
   "execution_count": null,
   "metadata": {},
   "outputs": [],
   "source": [
    "    "
   ]
  },
  {
   "cell_type": "code",
   "execution_count": null,
   "metadata": {},
   "outputs": [],
   "source": []
  }
 ],
 "metadata": {
  "kernelspec": {
   "display_name": "Python 3",
   "language": "python",
   "name": "python3"
  },
  "language_info": {
   "codemirror_mode": {
    "name": "ipython",
    "version": 3
   },
   "file_extension": ".py",
   "mimetype": "text/x-python",
   "name": "python",
   "nbconvert_exporter": "python",
   "pygments_lexer": "ipython3",
   "version": "3.7.3"
  }
 },
 "nbformat": 4,
 "nbformat_minor": 2
}
