{
 "cells": [
  {
   "cell_type": "code",
   "execution_count": 1,
   "metadata": {},
   "outputs": [],
   "source": [
    "import pandas as pd\n",
    "import numpy as np\n",
    "import matplotlib.pyplot as plt\n",
    "from sklearn.preprocessing import StandardScaler\n",
    "from sklearn.neighbors import LocalOutlierFactor"
   ]
  },
  {
   "cell_type": "code",
   "execution_count": 17,
   "metadata": {},
   "outputs": [],
   "source": [
    "plt.style.use(\"default\")\n",
    "SMALL_SIZE = 15\n",
    "MEDIUM_SIZE = 18\n",
    "BIGGER_SIZE = 21\n",
    "\n",
    "plt.rc('font', size=SMALL_SIZE)  # controls default text sizes\n",
    "plt.rc('axes', titlesize=MEDIUM_SIZE)  # fontsize of the axes title\n",
    "plt.rc('axes', labelsize=MEDIUM_SIZE)  # fontsize of the x and y labels\n",
    "plt.rc('xtick', labelsize=MEDIUM_SIZE)  # fontsize of the tick labels\n",
    "plt.rc('ytick', labelsize=MEDIUM_SIZE)  # fontsize of the tick labels\n",
    "plt.rc('legend', fontsize=SMALL_SIZE)  # legend fontsize\n",
    "plt.rc('figure', titlesize=BIGGER_SIZE)  # fontsize of the figure title"
   ]
  },
  {
   "cell_type": "code",
   "execution_count": 10,
   "metadata": {},
   "outputs": [
    {
     "data": {
      "text/html": [
       "<div>\n",
       "<style scoped>\n",
       "    .dataframe tbody tr th:only-of-type {\n",
       "        vertical-align: middle;\n",
       "    }\n",
       "\n",
       "    .dataframe tbody tr th {\n",
       "        vertical-align: top;\n",
       "    }\n",
       "\n",
       "    .dataframe thead th {\n",
       "        text-align: right;\n",
       "    }\n",
       "</style>\n",
       "<table border=\"1\" class=\"dataframe\">\n",
       "  <thead>\n",
       "    <tr style=\"text-align: right;\">\n",
       "      <th></th>\n",
       "      <th>x</th>\n",
       "      <th>y</th>\n",
       "    </tr>\n",
       "  </thead>\n",
       "  <tbody>\n",
       "    <tr>\n",
       "      <td>0</td>\n",
       "      <td>-2765.918720</td>\n",
       "      <td>1.603734e-07</td>\n",
       "    </tr>\n",
       "    <tr>\n",
       "      <td>1</td>\n",
       "      <td>-2525.463307</td>\n",
       "      <td>3.583183e-07</td>\n",
       "    </tr>\n",
       "    <tr>\n",
       "      <td>2</td>\n",
       "      <td>-2285.007894</td>\n",
       "      <td>7.570544e-07</td>\n",
       "    </tr>\n",
       "    <tr>\n",
       "      <td>3</td>\n",
       "      <td>-2044.552481</td>\n",
       "      <td>1.506490e-06</td>\n",
       "    </tr>\n",
       "    <tr>\n",
       "      <td>4</td>\n",
       "      <td>-1804.097068</td>\n",
       "      <td>2.823188e-06</td>\n",
       "    </tr>\n",
       "  </tbody>\n",
       "</table>\n",
       "</div>"
      ],
      "text/plain": [
       "             x             y\n",
       "0 -2765.918720  1.603734e-07\n",
       "1 -2525.463307  3.583183e-07\n",
       "2 -2285.007894  7.570544e-07\n",
       "3 -2044.552481  1.506490e-06\n",
       "4 -1804.097068  2.823188e-06"
      ]
     },
     "execution_count": 10,
     "metadata": {},
     "output_type": "execute_result"
    }
   ],
   "source": [
    "kde_df = pd.read_csv(\"events_kde.csv\", sep=\",\", header=None).T\n",
    "kde_df.columns = [\"x\", \"y\"]\n",
    "kde_df.head()"
   ]
  },
  {
   "cell_type": "code",
   "execution_count": 7,
   "metadata": {},
   "outputs": [],
   "source": [
    "%matplotlib qt\n",
    "#%matplotlib inline \n",
    "plt.plot(kde_df[\"x\"], kde_df[\"y\"], label=\"\")\n",
    "plt.axvline(x=5000, linestyle=\"--\", c=\"green\", label=\"Lower bound (5k)\")\n",
    "plt.axvline(x=15000, linestyle=\"--\", c=\"orange\", label=\"Lower bound (15k)\")\n",
    "plt.show()"
   ]
  },
  {
   "cell_type": "code",
   "execution_count": null,
   "metadata": {},
   "outputs": [],
   "source": [
    "plt.plot(kde_df[\"x\"], np.gradient(kde_df[\"y\"]), label=\"\")"
   ]
  },
  {
   "cell_type": "code",
   "execution_count": null,
   "metadata": {},
   "outputs": [],
   "source": [
    "plt.plot(kde_df[\"x\"], np.cumsum(kde_df[\"y\"]), label=\"\")"
   ]
  },
  {
   "cell_type": "code",
   "execution_count": null,
   "metadata": {},
   "outputs": [],
   "source": [
    "np.percentile(np.cumsum(kde_df[\"y\"]), 25)"
   ]
  },
  {
   "cell_type": "code",
   "execution_count": null,
   "metadata": {},
   "outputs": [],
   "source": [
    "np.percentile(np.cumsum(kde_df[\"y\"]), 60)"
   ]
  },
  {
   "cell_type": "code",
   "execution_count": 11,
   "metadata": {},
   "outputs": [
    {
     "name": "stderr",
     "output_type": "stream",
     "text": [
      "C:\\Users\\pmuellner\\AppData\\Local\\Continuum\\anaconda3\\lib\\site-packages\\numpy\\core\\fromnumeric.py:56: FutureWarning: \n",
      "The current behaviour of 'Series.argmin' is deprecated, use 'idxmin'\n",
      "instead.\n",
      "The behavior of 'argmin' will be corrected to return the positional\n",
      "minimum in the future. For now, use 'series.values.argmin' or\n",
      "'np.argmin(np.array(values))' to get the position of the minimum\n",
      "row.\n",
      "  return getattr(obj, method)(*args, **kwds)\n"
     ]
    },
    {
     "data": {
      "text/plain": [
       "x    20077.345507\n",
       "y        0.000110\n",
       "Name: 95, dtype: float64"
      ]
     },
     "execution_count": 11,
     "metadata": {},
     "output_type": "execute_result"
    }
   ],
   "source": [
    "cumsum = np.cumsum(kde_df[\"y\"])\n",
    "best_idx = np.argmin(np.abs(cumsum - 0.003777))\n",
    "kde_df.iloc[best_idx]"
   ]
  },
  {
   "cell_type": "code",
   "execution_count": 5,
   "metadata": {},
   "outputs": [
    {
     "data": {
      "text/plain": [
       "Text(0.5, 0, 'Listening Events')"
      ]
     },
     "execution_count": 5,
     "metadata": {},
     "output_type": "execute_result"
    },
    {
     "data": {
      "image/png": "[encoded data removed]",
      "text/plain": [
       "<Figure size 432x288 with 3 Axes>"
      ]
     },
     "metadata": {
      "needs_background": "light"
     },
     "output_type": "display_data"
    }
   ],
   "source": [
    "fig, axes = plt.subplots(3, sharex=True)\n",
    "axes[0].plot(kde_df[\"x\"], kde_df[\"y\"], label=\"\")\n",
    "axes[0].axvline(x=5000, linestyle=\"--\", c=\"black\", label=\"Lower bound (5k)\")\n",
    "axes[0].axvline(x=15000, linestyle=\"--\", c=\"grey\", label=\"Upper bound (15k)\")\n",
    "axes[0].set_ylabel(\"KDE\")\n",
    "axes[0].legend(loc=\"upper right\")\n",
    "axes[1].plot(kde_df[\"x\"], np.cumsum(kde_df[\"y\"]), label=\"\")\n",
    "perc_25 = np.percentile(cumsum, 25)\n",
    "perc_60 = np.percentile(cumsum, 60)\n",
    "axes[1].axvline(x=4928.65, linestyle=\"--\", c=\"black\", label=\"25th percentile (4688)\")\n",
    "axes[1].axvline(x=15508.69, linestyle=\"--\", c=\"grey\", label=\"60th percentile (15508.69)\")\n",
    "axes[1].set_ylabel(\"CDF\")\n",
    "axes[1].legend(loc=\"upper right\")\n",
    "grad = np.gradient(kde_df[\"y\"])\n",
    "axes[2].plot(kde_df[\"x\"], grad, label=\"\")\n",
    "axes[2].fill_between(x=kde_df[\"x\"], y1=grad, color=\"grey\", alpha=0.3, label=\"Diff. to 0\")\n",
    "axes[2].axhline(y=0, linestyle=\"--\", color=\"black\", linewidth=1)\n",
    "axes[2].axvline(x=4688, linestyle=\"--\", c=\"black\", label=\"Lower bound (4688)\")\n",
    "axes[2].axvline(x=14787, linestyle=\"--\", c=\"grey\", label=\"Upper bound (14787)\")\n",
    "axes[2].set_ylabel(\"approx. Derivative\")\n",
    "axes[2].legend(loc=\"upper right\")\n",
    "plt.xlabel(\"Listening Events\")\n",
    "plt.grid0(False)"
   ]
  },
  {
   "cell_type": "code",
   "execution_count": 4,
   "metadata": {},
   "outputs": [
    {
     "data": {
      "text/plain": [
       "<matplotlib.legend.Legend at 0x2116aa766d8>"
      ]
     },
     "execution_count": 4,
     "metadata": {},
     "output_type": "execute_result"
    },
    {
     "data": {
      "image/png": "[encoded data removed]",
      "text/plain": [
       "<Figure size 432x288 with 1 Axes>"
      ]
     },
     "metadata": {
      "needs_background": "light"
     },
     "output_type": "display_data"
    }
   ],
   "source": [
    "condition = (kde_df[\"y\"] < np.percentile(kde_df[\"y\"], 75)) & (kde_df[\"y\"] > np.percentile(kde_df[\"y\"], 25))\n",
    "indicator = kde_df[condition]\n",
    "plt.plot(kde_df[\"x\"], kde_df[\"y\"], label=\"\")\n",
    "plt.scatter(indicator[\"x\"], indicator[\"y\"], color=\"red\", label=\"IQR\")\n",
    "plt.axvline(x=5000, linestyle=\"--\", c=\"black\", label=\"Lower bound (5k)\")\n",
    "plt.axvline(x=15000, linestyle=\"--\", c=\"grey\", label=\"Upper bound (15k)\")\n",
    "plt.legend(loc=\"upper right\")"
   ]
  },
  {
   "cell_type": "code",
   "execution_count": null,
   "metadata": {},
   "outputs": [],
   "source": [
    "plt.scatter(kde_df[\"x\"], grad, marker=\"o\", alpha=0.3)"
   ]
  },
  {
   "cell_type": "code",
   "execution_count": null,
   "metadata": {},
   "outputs": [],
   "source": [
    "np.argpartition(np.abs(grad), 2)"
   ]
  },
  {
   "cell_type": "code",
   "execution_count": null,
   "metadata": {},
   "outputs": [],
   "source": [
    "kde_df[\"x\"].iloc[[125, 61]]"
   ]
  },
  {
   "cell_type": "code",
   "execution_count": null,
   "metadata": {},
   "outputs": [],
   "source": []
  },
  {
   "cell_type": "code",
   "execution_count": null,
   "metadata": {},
   "outputs": [],
   "source": []
  },
  {
   "cell_type": "code",
   "execution_count": null,
   "metadata": {},
   "outputs": [],
   "source": []
  },
  {
   "cell_type": "code",
   "execution_count": null,
   "metadata": {},
   "outputs": [],
   "source": [
    "data = kde_df[\"y\"]\n",
    "clipped = np.clip(data, np.median(data) - np.std(data), np.median(data) + np.std(data))"
   ]
  },
  {
   "cell_type": "code",
   "execution_count": null,
   "metadata": {},
   "outputs": [],
   "source": [
    "plt.plot(kde_df[\"x\"], clipped)"
   ]
  },
  {
   "cell_type": "code",
   "execution_count": null,
   "metadata": {},
   "outputs": [],
   "source": [
    "z_scores = np.abs(StandardScaler().fit_transform(kde_df[\"y\"].values.reshape(-1, 1)))"
   ]
  },
  {
   "cell_type": "code",
   "execution_count": null,
   "metadata": {},
   "outputs": [],
   "source": [
    "plt.plot(kde_df[\"x\"], z_scores)"
   ]
  },
  {
   "cell_type": "code",
   "execution_count": null,
   "metadata": {},
   "outputs": [],
   "source": [
    "lof_scores = np.abs(LocalOutlierFactor(algorithm=\"brute\").fit(kde_df[\"y\"].values.reshape(-1, 1)).negative_outlier_factor_)\n",
    "plt.plot(kde_df[\"x\"], lof_scores)"
   ]
  },
  {
   "cell_type": "code",
   "execution_count": null,
   "metadata": {},
   "outputs": [],
   "source": [
    "kde_df[\"y\"].to_frame().boxplot()"
   ]
  },
  {
   "cell_type": "code",
   "execution_count": null,
   "metadata": {},
   "outputs": [],
   "source": []
  },
  {
   "cell_type": "code",
   "execution_count": null,
   "metadata": {},
   "outputs": [],
   "source": [
    "plt.hist(kde_df[\"y\"], bins=50)"
   ]
  },
  {
   "cell_type": "code",
   "execution_count": null,
   "metadata": {},
   "outputs": [],
   "source": []
  },
  {
   "cell_type": "code",
   "execution_count": 5,
   "metadata": {},
   "outputs": [],
   "source": [
    "grad = np.gradient(kde_df[\"y\"])"
   ]
  },
  {
   "cell_type": "code",
   "execution_count": null,
   "metadata": {},
   "outputs": [],
   "source": [
    "kde_df[\"x\"].iloc[35:45]"
   ]
  },
  {
   "cell_type": "code",
   "execution_count": null,
   "metadata": {},
   "outputs": [],
   "source": [
    "np.argmin(np.abs(grad)[35:45])"
   ]
  },
  {
   "cell_type": "code",
   "execution_count": null,
   "metadata": {},
   "outputs": [],
   "source": [
    "kde_df.iloc[39]"
   ]
  },
  {
   "cell_type": "code",
   "execution_count": null,
   "metadata": {},
   "outputs": [],
   "source": [
    "kde_df[\"x\"].iloc[55:70]"
   ]
  },
  {
   "cell_type": "code",
   "execution_count": null,
   "metadata": {},
   "outputs": [],
   "source": [
    "np.argmin(np.abs(grad)[55:70])"
   ]
  },
  {
   "cell_type": "code",
   "execution_count": null,
   "metadata": {},
   "outputs": [],
   "source": [
    "kde_df.iloc[61]"
   ]
  },
  {
   "cell_type": "code",
   "execution_count": null,
   "metadata": {},
   "outputs": [],
   "source": [
    "plt.plot(kde_df[\"x\"], np.gradient(grad))"
   ]
  },
  {
   "cell_type": "code",
   "execution_count": null,
   "metadata": {},
   "outputs": [],
   "source": []
  },
  {
   "cell_type": "code",
   "execution_count": null,
   "metadata": {},
   "outputs": [],
   "source": []
  },
  {
   "cell_type": "code",
   "execution_count": 8,
   "metadata": {},
   "outputs": [
    {
     "data": {
      "text/html": [
       "<div>\n",
       "<style scoped>\n",
       "    .dataframe tbody tr th:only-of-type {\n",
       "        vertical-align: middle;\n",
       "    }\n",
       "\n",
       "    .dataframe tbody tr th {\n",
       "        vertical-align: top;\n",
       "    }\n",
       "\n",
       "    .dataframe thead th {\n",
       "        text-align: right;\n",
       "    }\n",
       "</style>\n",
       "<table border=\"1\" class=\"dataframe\">\n",
       "  <thead>\n",
       "    <tr style=\"text-align: right;\">\n",
       "      <th></th>\n",
       "      <th>x</th>\n",
       "      <th>y</th>\n",
       "    </tr>\n",
       "  </thead>\n",
       "  <tbody>\n",
       "    <tr>\n",
       "      <th>0</th>\n",
       "      <td>-2765.918720</td>\n",
       "      <td>1.603734e-07</td>\n",
       "    </tr>\n",
       "    <tr>\n",
       "      <th>1</th>\n",
       "      <td>-2525.463307</td>\n",
       "      <td>3.583183e-07</td>\n",
       "    </tr>\n",
       "    <tr>\n",
       "      <th>2</th>\n",
       "      <td>-2285.007894</td>\n",
       "      <td>7.570544e-07</td>\n",
       "    </tr>\n",
       "    <tr>\n",
       "      <th>31</th>\n",
       "      <td>4688.199080</td>\n",
       "      <td>3.146733e-05</td>\n",
       "    </tr>\n",
       "    <tr>\n",
       "      <th>32</th>\n",
       "      <td>4928.654493</td>\n",
       "      <td>3.083524e-05</td>\n",
       "    </tr>\n",
       "    <tr>\n",
       "      <th>33</th>\n",
       "      <td>5169.109906</td>\n",
       "      <td>3.036928e-05</td>\n",
       "    </tr>\n",
       "    <tr>\n",
       "      <th>34</th>\n",
       "      <td>5409.565319</td>\n",
       "      <td>3.001864e-05</td>\n",
       "    </tr>\n",
       "    <tr>\n",
       "      <th>35</th>\n",
       "      <td>5650.020732</td>\n",
       "      <td>2.974797e-05</td>\n",
       "    </tr>\n",
       "    <tr>\n",
       "      <th>36</th>\n",
       "      <td>5890.476145</td>\n",
       "      <td>2.953297e-05</td>\n",
       "    </tr>\n",
       "    <tr>\n",
       "      <th>37</th>\n",
       "      <td>6130.931558</td>\n",
       "      <td>2.935584e-05</td>\n",
       "    </tr>\n",
       "    <tr>\n",
       "      <th>38</th>\n",
       "      <td>6371.386971</td>\n",
       "      <td>2.920156e-05</td>\n",
       "    </tr>\n",
       "    <tr>\n",
       "      <th>39</th>\n",
       "      <td>6611.842384</td>\n",
       "      <td>2.905590e-05</td>\n",
       "    </tr>\n",
       "    <tr>\n",
       "      <th>40</th>\n",
       "      <td>6852.297796</td>\n",
       "      <td>2.890486e-05</td>\n",
       "    </tr>\n",
       "    <tr>\n",
       "      <th>41</th>\n",
       "      <td>7092.753209</td>\n",
       "      <td>2.873502e-05</td>\n",
       "    </tr>\n",
       "    <tr>\n",
       "      <th>42</th>\n",
       "      <td>7333.208622</td>\n",
       "      <td>2.853436e-05</td>\n",
       "    </tr>\n",
       "    <tr>\n",
       "      <th>43</th>\n",
       "      <td>7573.664035</td>\n",
       "      <td>2.829308e-05</td>\n",
       "    </tr>\n",
       "    <tr>\n",
       "      <th>44</th>\n",
       "      <td>7814.119448</td>\n",
       "      <td>2.800442e-05</td>\n",
       "    </tr>\n",
       "    <tr>\n",
       "      <th>45</th>\n",
       "      <td>8054.574861</td>\n",
       "      <td>2.766525e-05</td>\n",
       "    </tr>\n",
       "    <tr>\n",
       "      <th>46</th>\n",
       "      <td>8295.030274</td>\n",
       "      <td>2.727651e-05</td>\n",
       "    </tr>\n",
       "    <tr>\n",
       "      <th>47</th>\n",
       "      <td>8535.485687</td>\n",
       "      <td>2.684325e-05</td>\n",
       "    </tr>\n",
       "    <tr>\n",
       "      <th>48</th>\n",
       "      <td>8775.941100</td>\n",
       "      <td>2.637420e-05</td>\n",
       "    </tr>\n",
       "    <tr>\n",
       "      <th>49</th>\n",
       "      <td>9016.396513</td>\n",
       "      <td>2.588086e-05</td>\n",
       "    </tr>\n",
       "    <tr>\n",
       "      <th>50</th>\n",
       "      <td>9256.851926</td>\n",
       "      <td>2.537627e-05</td>\n",
       "    </tr>\n",
       "    <tr>\n",
       "      <th>51</th>\n",
       "      <td>9497.307339</td>\n",
       "      <td>2.487361e-05</td>\n",
       "    </tr>\n",
       "    <tr>\n",
       "      <th>52</th>\n",
       "      <td>9737.762751</td>\n",
       "      <td>2.438499e-05</td>\n",
       "    </tr>\n",
       "    <tr>\n",
       "      <th>53</th>\n",
       "      <td>9978.218164</td>\n",
       "      <td>2.392082e-05</td>\n",
       "    </tr>\n",
       "    <tr>\n",
       "      <th>54</th>\n",
       "      <td>10218.673577</td>\n",
       "      <td>2.348981e-05</td>\n",
       "    </tr>\n",
       "    <tr>\n",
       "      <th>55</th>\n",
       "      <td>10459.128990</td>\n",
       "      <td>2.309959e-05</td>\n",
       "    </tr>\n",
       "    <tr>\n",
       "      <th>56</th>\n",
       "      <td>10699.584403</td>\n",
       "      <td>2.275728e-05</td>\n",
       "    </tr>\n",
       "    <tr>\n",
       "      <th>57</th>\n",
       "      <td>10940.039816</td>\n",
       "      <td>2.246960e-05</td>\n",
       "    </tr>\n",
       "    <tr>\n",
       "      <th>...</th>\n",
       "      <td>...</td>\n",
       "      <td>...</td>\n",
       "    </tr>\n",
       "    <tr>\n",
       "      <th>67</th>\n",
       "      <td>13344.593945</td>\n",
       "      <td>2.280267e-05</td>\n",
       "    </tr>\n",
       "    <tr>\n",
       "      <th>68</th>\n",
       "      <td>13585.049358</td>\n",
       "      <td>2.315581e-05</td>\n",
       "    </tr>\n",
       "    <tr>\n",
       "      <th>69</th>\n",
       "      <td>13825.504771</td>\n",
       "      <td>2.359123e-05</td>\n",
       "    </tr>\n",
       "    <tr>\n",
       "      <th>70</th>\n",
       "      <td>14065.960184</td>\n",
       "      <td>2.411881e-05</td>\n",
       "    </tr>\n",
       "    <tr>\n",
       "      <th>71</th>\n",
       "      <td>14306.415597</td>\n",
       "      <td>2.474715e-05</td>\n",
       "    </tr>\n",
       "    <tr>\n",
       "      <th>72</th>\n",
       "      <td>14546.871010</td>\n",
       "      <td>2.548306e-05</td>\n",
       "    </tr>\n",
       "    <tr>\n",
       "      <th>73</th>\n",
       "      <td>14787.326423</td>\n",
       "      <td>2.633110e-05</td>\n",
       "    </tr>\n",
       "    <tr>\n",
       "      <th>93</th>\n",
       "      <td>19596.434681</td>\n",
       "      <td>1.186889e-04</td>\n",
       "    </tr>\n",
       "    <tr>\n",
       "      <th>106</th>\n",
       "      <td>22722.355049</td>\n",
       "      <td>2.847574e-06</td>\n",
       "    </tr>\n",
       "    <tr>\n",
       "      <th>107</th>\n",
       "      <td>22962.810462</td>\n",
       "      <td>2.291587e-06</td>\n",
       "    </tr>\n",
       "    <tr>\n",
       "      <th>108</th>\n",
       "      <td>23203.265875</td>\n",
       "      <td>2.020319e-06</td>\n",
       "    </tr>\n",
       "    <tr>\n",
       "      <th>109</th>\n",
       "      <td>23443.721288</td>\n",
       "      <td>1.878590e-06</td>\n",
       "    </tr>\n",
       "    <tr>\n",
       "      <th>110</th>\n",
       "      <td>23684.176701</td>\n",
       "      <td>1.780432e-06</td>\n",
       "    </tr>\n",
       "    <tr>\n",
       "      <th>111</th>\n",
       "      <td>23924.632113</td>\n",
       "      <td>1.681741e-06</td>\n",
       "    </tr>\n",
       "    <tr>\n",
       "      <th>112</th>\n",
       "      <td>24165.087526</td>\n",
       "      <td>1.562355e-06</td>\n",
       "    </tr>\n",
       "    <tr>\n",
       "      <th>113</th>\n",
       "      <td>24405.542939</td>\n",
       "      <td>1.415909e-06</td>\n",
       "    </tr>\n",
       "    <tr>\n",
       "      <th>114</th>\n",
       "      <td>24645.998352</td>\n",
       "      <td>1.244577e-06</td>\n",
       "    </tr>\n",
       "    <tr>\n",
       "      <th>115</th>\n",
       "      <td>24886.453765</td>\n",
       "      <td>1.056135e-06</td>\n",
       "    </tr>\n",
       "    <tr>\n",
       "      <th>116</th>\n",
       "      <td>25126.909178</td>\n",
       "      <td>8.617180e-07</td>\n",
       "    </tr>\n",
       "    <tr>\n",
       "      <th>117</th>\n",
       "      <td>25367.364591</td>\n",
       "      <td>6.735607e-07</td>\n",
       "    </tr>\n",
       "    <tr>\n",
       "      <th>118</th>\n",
       "      <td>25607.820004</td>\n",
       "      <td>5.027302e-07</td>\n",
       "    </tr>\n",
       "    <tr>\n",
       "      <th>119</th>\n",
       "      <td>25848.275417</td>\n",
       "      <td>3.572607e-07</td>\n",
       "    </tr>\n",
       "    <tr>\n",
       "      <th>120</th>\n",
       "      <td>26088.730830</td>\n",
       "      <td>2.411310e-07</td>\n",
       "    </tr>\n",
       "    <tr>\n",
       "      <th>121</th>\n",
       "      <td>26329.186243</td>\n",
       "      <td>1.542910e-07</td>\n",
       "    </tr>\n",
       "    <tr>\n",
       "      <th>122</th>\n",
       "      <td>26569.641656</td>\n",
       "      <td>9.360596e-08</td>\n",
       "    </tr>\n",
       "    <tr>\n",
       "      <th>123</th>\n",
       "      <td>26810.097068</td>\n",
       "      <td>5.436717e-08</td>\n",
       "    </tr>\n",
       "    <tr>\n",
       "      <th>124</th>\n",
       "      <td>27050.552481</td>\n",
       "      <td>3.203741e-08</td>\n",
       "    </tr>\n",
       "    <tr>\n",
       "      <th>125</th>\n",
       "      <td>27291.007894</td>\n",
       "      <td>2.418767e-08</td>\n",
       "    </tr>\n",
       "    <tr>\n",
       "      <th>126</th>\n",
       "      <td>27531.463307</td>\n",
       "      <td>3.304578e-08</td>\n",
       "    </tr>\n",
       "    <tr>\n",
       "      <th>127</th>\n",
       "      <td>27771.918720</td>\n",
       "      <td>6.958115e-08</td>\n",
       "    </tr>\n",
       "  </tbody>\n",
       "</table>\n",
       "<p>69 rows × 2 columns</p>\n",
       "</div>"
      ],
      "text/plain": [
       "                x             y\n",
       "0    -2765.918720  1.603734e-07\n",
       "1    -2525.463307  3.583183e-07\n",
       "2    -2285.007894  7.570544e-07\n",
       "31    4688.199080  3.146733e-05\n",
       "32    4928.654493  3.083524e-05\n",
       "33    5169.109906  3.036928e-05\n",
       "34    5409.565319  3.001864e-05\n",
       "35    5650.020732  2.974797e-05\n",
       "36    5890.476145  2.953297e-05\n",
       "37    6130.931558  2.935584e-05\n",
       "38    6371.386971  2.920156e-05\n",
       "39    6611.842384  2.905590e-05\n",
       "40    6852.297796  2.890486e-05\n",
       "41    7092.753209  2.873502e-05\n",
       "42    7333.208622  2.853436e-05\n",
       "43    7573.664035  2.829308e-05\n",
       "44    7814.119448  2.800442e-05\n",
       "45    8054.574861  2.766525e-05\n",
       "46    8295.030274  2.727651e-05\n",
       "47    8535.485687  2.684325e-05\n",
       "48    8775.941100  2.637420e-05\n",
       "49    9016.396513  2.588086e-05\n",
       "50    9256.851926  2.537627e-05\n",
       "51    9497.307339  2.487361e-05\n",
       "52    9737.762751  2.438499e-05\n",
       "53    9978.218164  2.392082e-05\n",
       "54   10218.673577  2.348981e-05\n",
       "55   10459.128990  2.309959e-05\n",
       "56   10699.584403  2.275728e-05\n",
       "57   10940.039816  2.246960e-05\n",
       "..            ...           ...\n",
       "67   13344.593945  2.280267e-05\n",
       "68   13585.049358  2.315581e-05\n",
       "69   13825.504771  2.359123e-05\n",
       "70   14065.960184  2.411881e-05\n",
       "71   14306.415597  2.474715e-05\n",
       "72   14546.871010  2.548306e-05\n",
       "73   14787.326423  2.633110e-05\n",
       "93   19596.434681  1.186889e-04\n",
       "106  22722.355049  2.847574e-06\n",
       "107  22962.810462  2.291587e-06\n",
       "108  23203.265875  2.020319e-06\n",
       "109  23443.721288  1.878590e-06\n",
       "110  23684.176701  1.780432e-06\n",
       "111  23924.632113  1.681741e-06\n",
       "112  24165.087526  1.562355e-06\n",
       "113  24405.542939  1.415909e-06\n",
       "114  24645.998352  1.244577e-06\n",
       "115  24886.453765  1.056135e-06\n",
       "116  25126.909178  8.617180e-07\n",
       "117  25367.364591  6.735607e-07\n",
       "118  25607.820004  5.027302e-07\n",
       "119  25848.275417  3.572607e-07\n",
       "120  26088.730830  2.411310e-07\n",
       "121  26329.186243  1.542910e-07\n",
       "122  26569.641656  9.360596e-08\n",
       "123  26810.097068  5.436717e-08\n",
       "124  27050.552481  3.203741e-08\n",
       "125  27291.007894  2.418767e-08\n",
       "126  27531.463307  3.304578e-08\n",
       "127  27771.918720  6.958115e-08\n",
       "\n",
       "[69 rows x 2 columns]"
      ]
     },
     "execution_count": 8,
     "metadata": {},
     "output_type": "execute_result"
    }
   ],
   "source": [
    "indices = np.where(np.abs(grad) < 0.000001)[0]\n",
    "kde_df.iloc[indices]"
   ]
  },
  {
   "cell_type": "code",
   "execution_count": 9,
   "metadata": {},
   "outputs": [
    {
     "data": {
      "text/plain": [
       "x    4688.199080\n",
       "y       0.000031\n",
       "Name: 31, dtype: float64"
      ]
     },
     "execution_count": 9,
     "metadata": {},
     "output_type": "execute_result"
    }
   ],
   "source": [
    "left_border = kde_df.iloc[indices].loc[31]\n",
    "left_border"
   ]
  },
  {
   "cell_type": "code",
   "execution_count": 10,
   "metadata": {},
   "outputs": [
    {
     "data": {
      "text/plain": [
       "x    14787.326423\n",
       "y        0.000026\n",
       "Name: 73, dtype: float64"
      ]
     },
     "execution_count": 10,
     "metadata": {},
     "output_type": "execute_result"
    }
   ],
   "source": [
    "right_border = kde_df.iloc[indices].loc[73]\n",
    "right_border"
   ]
  },
  {
   "cell_type": "code",
   "execution_count": 19,
   "metadata": {},
   "outputs": [
    {
     "data": {
      "text/plain": [
       "Text(0.5, 0, 'Listening Events')"
      ]
     },
     "execution_count": 19,
     "metadata": {},
     "output_type": "execute_result"
    }
   ],
   "source": [
    "%matplotlib qt\n",
    "fig, axes = plt.subplots(2, 1, sharex=True)\n",
    "axes[0].plot(kde_df[\"x\"], kde_df[\"y\"], label=\"\")\n",
    "axes[0].set_ylabel(\"Density\")\n",
    "axes[0].grid(False)\n",
    "\n",
    "grad = np.gradient(kde_df[\"y\"])\n",
    "axes[1].plot(kde_df[\"x\"], grad, label=\"\")\n",
    "#axes[1].fill_between(x=kde_df[\"x\"], y1=grad, color=\"grey\", alpha=0.3, label=\"Diff. to 0\")\n",
    "axes[1].axhline(y=0, linestyle=\"--\", color=\"grey\", linewidth=1)\n",
    "axes[1].axvline(x=4688, linestyle=\"--\", c=\"black\", label=\"Lower bound (4688)\")\n",
    "axes[1].axvline(x=14787, linestyle=\"dotted\", c=\"black\", label=\"Upper bound (14787)\")\n",
    "axes[1].set_ylabel(\"Gradient\")\n",
    "axes[1].grid(False)\n",
    "plt.legend(loc=\"upper right\")\n",
    "\n",
    "plt.xlabel(\"Listening Events\")"
   ]
  },
  {
   "cell_type": "code",
   "execution_count": null,
   "metadata": {},
   "outputs": [],
   "source": []
  },
  {
   "cell_type": "code",
   "execution_count": 9,
   "metadata": {},
   "outputs": [
    {
     "data": {
      "text/plain": [
       "240.45541291492282"
      ]
     },
     "execution_count": 9,
     "metadata": {},
     "output_type": "execute_result"
    }
   ],
   "source": [
    "kde_df[\"x\"][2] - kde_df[\"x\"][1]"
   ]
  },
  {
   "cell_type": "code",
   "execution_count": 10,
   "metadata": {},
   "outputs": [
    {
     "data": {
      "text/plain": [
       "240.45541291492327"
      ]
     },
     "execution_count": 10,
     "metadata": {},
     "output_type": "execute_result"
    }
   ],
   "source": [
    "kde_df[\"x\"][1] - kde_df[\"x\"][0]"
   ]
  },
  {
   "cell_type": "code",
   "execution_count": 11,
   "metadata": {},
   "outputs": [],
   "source": [
    "dist = kde_df[\"x\"][2] - kde_df[\"x\"][1]"
   ]
  },
  {
   "cell_type": "code",
   "execution_count": 13,
   "metadata": {},
   "outputs": [
    {
     "data": {
      "text/plain": [
       "0.9999999999999998"
      ]
     },
     "execution_count": 13,
     "metadata": {},
     "output_type": "execute_result"
    }
   ],
   "source": [
    "(kde_df[\"y\"] * dist).sum()"
   ]
  },
  {
   "cell_type": "code",
   "execution_count": null,
   "metadata": {},
   "outputs": [],
   "source": []
  },
  {
   "cell_type": "code",
   "execution_count": null,
   "metadata": {},
   "outputs": [],
   "source": []
  },
  {
   "cell_type": "code",
   "execution_count": null,
   "metadata": {},
   "outputs": [],
   "source": []
  },
  {
   "cell_type": "code",
   "execution_count": null,
   "metadata": {},
   "outputs": [],
   "source": []
  },
  {
   "cell_type": "code",
   "execution_count": null,
   "metadata": {},
   "outputs": [],
   "source": []
  }
 ],
 "metadata": {
  "kernelspec": {
   "display_name": "Python 3",
   "language": "python",
   "name": "python3"
  },
  "language_info": {
   "codemirror_mode": {
    "name": "ipython",
    "version": 3
   },
   "file_extension": ".py",
   "mimetype": "text/x-python",
   "name": "python",
   "nbconvert_exporter": "python",
   "pygments_lexer": "ipython3",
   "version": "3.7.3"
  }
 },
 "nbformat": 4,
 "nbformat_minor": 2
}
